{
 "cells": [
  {
   "cell_type": "code",
   "execution_count": 1,
   "id": "initial_id",
   "metadata": {
    "collapsed": true,
    "ExecuteTime": {
     "end_time": "2023-11-27T16:38:56.187084362Z",
     "start_time": "2023-11-27T16:38:54.751937195Z"
    }
   },
   "outputs": [
    {
     "name": "stdout",
     "output_type": "stream",
     "text": [
      "dlt 0.3.25\r\n"
     ]
    }
   ],
   "source": [
    "! pip install -q \"dlt[duckdb]\"\n",
    "! dlt --version"
   ]
  },
  {
   "cell_type": "code",
   "execution_count": 2,
   "outputs": [
    {
     "name": "stdout",
     "output_type": "stream",
     "text": [
      "Looking up the init scripts in \u001B[1mhttps://github.com/dlt-hub/verified-sources.git\u001B[0m...\r\n",
      "No files to update, exiting\r\n"
     ]
    }
   ],
   "source": [
    "! dlt --non-interactive init personio duckdb"
   ],
   "metadata": {
    "collapsed": false,
    "ExecuteTime": {
     "end_time": "2023-11-27T16:38:59.498980624Z",
     "start_time": "2023-11-27T16:38:57.410950917Z"
    }
   },
   "id": "3f038cb4b604128"
  },
  {
   "cell_type": "markdown",
   "source": [
    "Set credentials in the `.dlt/secrets.toml` file\n",
    "\n",
    "```toml\n",
    "[sources.personio]\n",
    "client_id = \"client_id\" # please set me up!\n",
    "client_secret = \"client_secret\" # please set me up!\n",
    "```"
   ],
   "metadata": {
    "collapsed": false
   },
   "id": "89fbb0886880bc00"
  },
  {
   "cell_type": "code",
   "execution_count": 4,
   "outputs": [
    {
     "name": "stdout",
     "output_type": "stream",
     "text": [
      "Pipeline personio completed in 12.44 seconds\n",
      "1 load package(s) were loaded to destination duckdb and into dataset personio_data\n",
      "The duckdb destination used duckdb:////home/alenaastrakhantseva/dlthub/dlt_demos/personio.duckdb location to store data\n",
      "Load package 1701103207.359721 is LOADED and contains no failed jobs\n"
     ]
    }
   ],
   "source": [
    "\"\"\"Pipeline to load personio data into Duckdb.\"\"\"\n",
    "\n",
    "from typing import List\n",
    "\n",
    "import dlt\n",
    "from personio import personio_source\n",
    "\n",
    "pipeline = dlt.pipeline(\n",
    "    pipeline_name=\"personio\", destination='duckdb', dataset_name=\"personio_data\"\n",
    ")\n",
    "resources = [\"employees\", \"absences\", \"attendances\"]\n",
    "load_info = pipeline.run(\n",
    "    personio_source().with_resources(*resources),\n",
    ")\n",
    "print(load_info)"
   ],
   "metadata": {
    "collapsed": false,
    "ExecuteTime": {
     "end_time": "2023-11-27T16:40:08.535452243Z",
     "start_time": "2023-11-27T16:39:55.794799101Z"
    }
   },
   "id": "b069c55ab4bfcda3"
  },
  {
   "cell_type": "code",
   "execution_count": null,
   "outputs": [],
   "source": [
    "!"
   ],
   "metadata": {
    "collapsed": false
   },
   "id": "7c7c66f81adc7dbe"
  },
  {
   "cell_type": "code",
   "execution_count": 5,
   "outputs": [
    {
     "data": {
      "text/plain": "┌──────────┬──────────────────────┬──────────────────────┬──────────────────────┬──────────────────────────┬───────────┐\n│ database │        schema        │         name         │     column_names     │       column_types       │ temporary │\n│ varchar  │       varchar        │       varchar        │      varchar[]       │        varchar[]         │  boolean  │\n├──────────┼──────────────────────┼──────────────────────┼──────────────────────┼──────────────────────────┼───────────┤\n│ personio │ personio_data        │ _dlt_loads           │ [load_id, schema_n…  │ [VARCHAR, VARCHAR, BIG…  │ false     │\n│ personio │ personio_data        │ _dlt_pipeline_state  │ [version, engine_v…  │ [BIGINT, BIGINT, VARCH…  │ false     │\n│ personio │ personio_data        │ _dlt_version         │ [version, engine_v…  │ [BIGINT, BIGINT, TIMES…  │ false     │\n│ personio │ personio_data        │ absences             │ [id, name, unit, c…  │ [BIGINT, VARCHAR, VARC…  │ false     │\n│ personio │ personio_data        │ attendances          │ [id, employee, dat…  │ [BIGINT, BIGINT, DATE,…  │ false     │\n│ personio │ personio_data        │ employees            │ [id, first_name, l…  │ [BIGINT, VARCHAR, VARC…  │ false     │\n│ personio │ personio_data        │ employees__absence…  │ [type, attributes_…  │ [VARCHAR, BIGINT, VARC…  │ false     │\n│ personio │ personio_data        │ employees__cost_ce…  │ [type, attributes_…  │ [VARCHAR, BIGINT, VARC…  │ false     │\n│ personio │ personio_data_stag…  │ _dlt_version         │ [version, engine_v…  │ [BIGINT, BIGINT, TIMES…  │ false     │\n│ personio │ personio_data_stag…  │ attendances          │ [id, employee, dat…  │ [BIGINT, BIGINT, DATE,…  │ false     │\n│ personio │ personio_data_stag…  │ employees            │ [id, first_name, l…  │ [BIGINT, VARCHAR, VARC…  │ false     │\n│ personio │ personio_data_stag…  │ employees__absence…  │ [type, attributes_…  │ [VARCHAR, BIGINT, VARC…  │ false     │\n│ personio │ personio_data_stag…  │ employees__cost_ce…  │ [type, attributes_…  │ [VARCHAR, BIGINT, VARC…  │ false     │\n├──────────┴──────────────────────┴──────────────────────┴──────────────────────┴──────────────────────────┴───────────┤\n│ 13 rows                                                                                                    6 columns │\n└──────────────────────────────────────────────────────────────────────────────────────────────────────────────────────┘"
     },
     "metadata": {},
     "output_type": "display_data"
    }
   ],
   "source": [
    "import duckdb\n",
    "# a database 'chess_pipeline.duckdb' was created in working directory so just connect to it\n",
    "conn = duckdb.connect(f\"{pipeline.pipeline_name}.duckdb\")\n",
    "\n",
    "# this lets us query data without adding schema prefix to table names\n",
    "conn.sql(f\"SET search_path = '{pipeline.dataset_name}'\")\n",
    "\n",
    "# list all tables\n",
    "display(conn.sql(\"DESCRIBE\"))"
   ],
   "metadata": {
    "collapsed": false,
    "ExecuteTime": {
     "end_time": "2023-11-27T16:40:17.746119683Z",
     "start_time": "2023-11-27T16:40:17.703203743Z"
    }
   },
   "id": "b36d7360ef7e97fb"
  },
  {
   "cell_type": "code",
   "execution_count": null,
   "outputs": [],
   "source": [
    "!"
   ],
   "metadata": {
    "collapsed": false
   },
   "id": "a92c5bfcd9c79f6b"
  },
  {
   "cell_type": "code",
   "execution_count": 6,
   "outputs": [
    {
     "ename": "ModuleNotFoundError",
     "evalue": "No module named 'numpy'",
     "output_type": "error",
     "traceback": [
      "\u001B[0;31m---------------------------------------------------------------------------\u001B[0m",
      "\u001B[0;31mModuleNotFoundError\u001B[0m                       Traceback (most recent call last)",
      "Cell \u001B[0;32mIn[6], line 1\u001B[0m\n\u001B[0;32m----> 1\u001B[0m stats_table \u001B[38;5;241m=\u001B[39m \u001B[43mconn\u001B[49m\u001B[38;5;241;43m.\u001B[39;49m\u001B[43msql\u001B[49m\u001B[43m(\u001B[49m\u001B[38;5;124;43m\"\u001B[39;49m\u001B[38;5;124;43mSELECT * FROM absences\u001B[39;49m\u001B[38;5;124;43m\"\u001B[39;49m\u001B[43m)\u001B[49m\u001B[38;5;241;43m.\u001B[39;49m\u001B[43mdf\u001B[49m\u001B[43m(\u001B[49m\u001B[43m)\u001B[49m\n\u001B[1;32m      2\u001B[0m display(stats_table)\n",
      "\u001B[0;31mModuleNotFoundError\u001B[0m: No module named 'numpy'"
     ]
    }
   ],
   "source": [
    "stats_table = conn.sql(\"SELECT * FROM absences\").df()\n",
    "display(stats_table)"
   ],
   "metadata": {
    "collapsed": false,
    "ExecuteTime": {
     "end_time": "2023-11-27T16:42:14.337339159Z",
     "start_time": "2023-11-27T16:42:14.275536039Z"
    }
   },
   "id": "8918c7699d787cda"
  },
  {
   "cell_type": "code",
   "execution_count": null,
   "outputs": [],
   "source": [],
   "metadata": {
    "collapsed": false
   },
   "id": "4c51507b8004c937"
  }
 ],
 "metadata": {
  "kernelspec": {
   "display_name": "Python 3",
   "language": "python",
   "name": "python3"
  },
  "language_info": {
   "codemirror_mode": {
    "name": "ipython",
    "version": 2
   },
   "file_extension": ".py",
   "mimetype": "text/x-python",
   "name": "python",
   "nbconvert_exporter": "python",
   "pygments_lexer": "ipython2",
   "version": "2.7.6"
  }
 },
 "nbformat": 4,
 "nbformat_minor": 5
}
