{
 "cells": [
  {
   "cell_type": "markdown",
   "source": [
    "# Personio demo\n",
    "\n",
    "## Installation\n",
    "Install dlt using pip:"
   ],
   "metadata": {
    "collapsed": false
   },
   "id": "c311c07d72552570"
  },
  {
   "cell_type": "code",
   "execution_count": 1,
   "outputs": [
    {
     "name": "stdout",
     "output_type": "stream",
     "text": [
      "dlt 0.3.25\r\n"
     ]
    }
   ],
   "source": [
    "! pip install -q \"dlt[duckdb]\"\n",
    "! dlt --version"
   ],
   "metadata": {
    "collapsed": false,
    "ExecuteTime": {
     "start_time": "2023-12-14T10:35:24.599972578Z"
    }
   },
   "id": "initial_id"
  },
  {
   "cell_type": "markdown",
   "source": [
    "Install additional dependencies for this demo:"
   ],
   "metadata": {
    "collapsed": false
   },
   "id": "1557f8d596eac8fb"
  },
  {
   "cell_type": "code",
   "execution_count": 15,
   "outputs": [],
   "source": [
    "!pip install -q pandas"
   ],
   "metadata": {
    "collapsed": false,
    "ExecuteTime": {
     "end_time": "2023-12-14T10:42:19.473358544Z",
     "start_time": "2023-12-14T10:42:18.397921538Z"
    }
   },
   "id": "dd83c420722543e4"
  },
  {
   "cell_type": "markdown",
   "source": [
    "## Initialize the verified source\n",
    "This command will initialize the pipeline example with Personio as the source and `duckdb` as the destination:"
   ],
   "metadata": {
    "collapsed": false
   },
   "id": "7bc65e9bebfc805e"
  },
  {
   "cell_type": "code",
   "execution_count": 2,
   "outputs": [
    {
     "name": "stdout",
     "output_type": "stream",
     "text": [
      "Looking up the init scripts in \u001B[1mhttps://github.com/dlt-hub/verified-sources.git\u001B[0m...\r\n",
      "No files to update, exiting\r\n"
     ]
    }
   ],
   "source": [
    "! dlt --non-interactive init personio duckdb"
   ],
   "metadata": {
    "collapsed": false,
    "ExecuteTime": {
     "end_time": "2023-12-14T10:35:28.285928791Z",
     "start_time": "2023-12-14T10:35:26.190083Z"
    }
   },
   "id": "3f038cb4b604128"
  },
  {
   "cell_type": "markdown",
   "source": [
    "Set credentials in the `.dlt/secrets.toml` file\n",
    "\n",
    "```toml\n",
    "[sources.personio]\n",
    "client_id = \"client_id\" # please set me up!\n",
    "client_secret = \"client_secret\" # please set me up!\n",
    "```"
   ],
   "metadata": {
    "collapsed": false
   },
   "id": "89fbb0886880bc00"
  },
  {
   "cell_type": "code",
   "execution_count": 9,
   "outputs": [
    {
     "name": "stdout",
     "output_type": "stream",
     "text": [
      "Pipeline personio_1 completed in 37.42 seconds\n",
      "1 load package(s) were loaded to destination duckdb and into dataset personio_data\n",
      "The duckdb destination used duckdb:////home/alenaastrakhantseva/dlthub/dlt_demos/personio_1.duckdb location to store data\n",
      "Load package 1702550279.979736 is LOADED and contains no failed jobs\n"
     ]
    }
   ],
   "source": [
    "\"\"\"Pipeline to load personio data into Duckdb.\"\"\"\n",
    "import dlt\n",
    "from personio import personio_source\n",
    "\n",
    "pipeline = dlt.pipeline(\n",
    "    pipeline_name=\"personio_1\", destination='duckdb', dataset_name=\"personio_data\"\n",
    ")\n",
    "resources = [\"employees\", \"absences\", \"attendances\"]\n",
    "load_info = pipeline.run(\n",
    "    personio_source().with_resources(*resources),\n",
    ")\n",
    "print(load_info)"
   ],
   "metadata": {
    "collapsed": false,
    "ExecuteTime": {
     "end_time": "2023-12-14T10:38:01.742690698Z",
     "start_time": "2023-12-14T10:37:23.897617562Z"
    }
   },
   "id": "b069c55ab4bfcda3"
  },
  {
   "cell_type": "code",
   "execution_count": 10,
   "outputs": [
    {
     "data": {
      "text/plain": "┌────────────┬──────────────────────┬──────────────────────┬──────────────────────┬────────────────────────┬───────────┐\n│  database  │        schema        │         name         │     column_names     │      column_types      │ temporary │\n│  varchar   │       varchar        │       varchar        │      varchar[]       │       varchar[]        │  boolean  │\n├────────────┼──────────────────────┼──────────────────────┼──────────────────────┼────────────────────────┼───────────┤\n│ personio_1 │ personio_data        │ _dlt_loads           │ [load_id, schema_n…  │ [VARCHAR, VARCHAR, B…  │ false     │\n│ personio_1 │ personio_data        │ _dlt_pipeline_state  │ [version, engine_v…  │ [BIGINT, BIGINT, VAR…  │ false     │\n│ personio_1 │ personio_data        │ _dlt_version         │ [version, engine_v…  │ [BIGINT, BIGINT, TIM…  │ false     │\n│ personio_1 │ personio_data        │ absences             │ [id, status, comme…  │ [BIGINT, VARCHAR, VA…  │ false     │\n│ personio_1 │ personio_data        │ attendances          │ [id, employee, dat…  │ [BIGINT, BIGINT, DAT…  │ false     │\n│ personio_1 │ personio_data        │ employees            │ [id, first_name, l…  │ [BIGINT, VARCHAR, VA…  │ false     │\n│ personio_1 │ personio_data        │ employees__absence…  │ [type, attributes_…  │ [VARCHAR, BIGINT, VA…  │ false     │\n│ personio_1 │ personio_data        │ employees__cost_ce…  │ [type, attributes_…  │ [VARCHAR, BIGINT, VA…  │ false     │\n│ personio_1 │ personio_data_stag…  │ _dlt_version         │ [version, engine_v…  │ [BIGINT, BIGINT, TIM…  │ false     │\n│ personio_1 │ personio_data_stag…  │ absences             │ [id, status, comme…  │ [BIGINT, VARCHAR, VA…  │ false     │\n│ personio_1 │ personio_data_stag…  │ attendances          │ [id, employee, dat…  │ [BIGINT, BIGINT, DAT…  │ false     │\n│ personio_1 │ personio_data_stag…  │ employees            │ [id, first_name, l…  │ [BIGINT, VARCHAR, VA…  │ false     │\n│ personio_1 │ personio_data_stag…  │ employees__absence…  │ [type, attributes_…  │ [VARCHAR, BIGINT, VA…  │ false     │\n│ personio_1 │ personio_data_stag…  │ employees__cost_ce…  │ [type, attributes_…  │ [VARCHAR, BIGINT, VA…  │ false     │\n├────────────┴──────────────────────┴──────────────────────┴──────────────────────┴────────────────────────┴───────────┤\n│ 14 rows                                                                                                    6 columns │\n└──────────────────────────────────────────────────────────────────────────────────────────────────────────────────────┘"
     },
     "metadata": {},
     "output_type": "display_data"
    }
   ],
   "source": [
    "import duckdb\n",
    "# a database 'chess_pipeline.duckdb' was created in working directory so just connect to it\n",
    "conn = duckdb.connect(f\"{pipeline.pipeline_name}.duckdb\")\n",
    "\n",
    "# this lets us query data without adding schema prefix to table names\n",
    "conn.sql(f\"SET search_path = '{pipeline.dataset_name}'\")\n",
    "\n",
    "# list all tables\n",
    "display(conn.sql(\"DESCRIBE\"))"
   ],
   "metadata": {
    "collapsed": false,
    "ExecuteTime": {
     "end_time": "2023-12-14T10:38:09.601554739Z",
     "start_time": "2023-12-14T10:38:09.554749539Z"
    }
   },
   "id": "b36d7360ef7e97fb"
  },
  {
   "cell_type": "code",
   "execution_count": 14,
   "outputs": [
    {
     "data": {
      "text/plain": "             id    status comment                start_date  \\\n0     590798993  approved         2020-06-04 00:00:00+02:00   \n1     590798995  approved         2020-11-17 00:00:00+01:00   \n2     590799006  approved         2020-07-13 00:00:00+02:00   \n3     590799008  approved         2020-04-14 00:00:00+02:00   \n4     590799054  approved         2020-11-02 00:00:00+01:00   \n...         ...       ...     ...                       ...   \n1097  590800087  approved         2023-01-10 00:00:00+01:00   \n1098  590800133  approved         2023-05-19 00:00:00+02:00   \n1099  590800151  approved         2023-08-07 00:00:00+02:00   \n1100  590800153  approved         2023-07-11 00:00:00+02:00   \n1101  590800164  approved         2023-07-11 00:00:00+02:00   \n\n                      end_date  days_count  half_day_start  half_day_end  \\\n0    2020-06-18 00:00:00+02:00        10.0               0             0   \n1    2020-11-23 00:00:00+01:00         5.0               0             0   \n2    2020-07-24 00:00:00+02:00        10.0               0             0   \n3    2020-04-24 00:00:00+02:00         9.0               0             0   \n4    2020-11-06 00:00:00+01:00         5.0               0             0   \n...                        ...         ...             ...           ...   \n1097 2023-01-10 00:00:00+01:00         NaN               1             0   \n1098 2023-05-19 00:00:00+02:00         1.0               0             0   \n1099 2023-08-07 00:00:00+02:00         1.0               0             0   \n1100 2023-07-11 00:00:00+02:00         NaN               1             0   \n1101 2023-07-11 00:00:00+02:00         1.0               0             0   \n\n     time_off_type__type  time_off_type__attributes__id  ...  \\\n0            TimeOffType                        2526184  ...   \n1            TimeOffType                        2526184  ...   \n2            TimeOffType                        2526184  ...   \n3            TimeOffType                        2526184  ...   \n4            TimeOffType                        2526184  ...   \n...                  ...                            ...  ...   \n1097         TimeOffType                        2526183  ...   \n1098         TimeOffType                        2526183  ...   \n1099         TimeOffType                        2526183  ...   \n1100         TimeOffType                        2526183  ...   \n1101         TimeOffType                        2526183  ...   \n\n      employee__attributes__email__value employee__attributes__email__type  \\\n0     christian.windholz@demo-sample.com                          standard   \n1     christian.windholz@demo-sample.com                          standard   \n2          greta.nordyke@demo-sample.com                          standard   \n3            hans.huffer@demo-sample.com                          standard   \n4            rene.storch@demo-sample.com                          standard   \n...                                  ...                               ...   \n1097         lars.keener@demo-sample.com                          standard   \n1098        lars.pressly@demo-sample.com                          standard   \n1099         rene.storch@demo-sample.com                          standard   \n1100         lars.keener@demo-sample.com                          standard   \n1101       laura.erdmann@demo-sample.com                          standard   \n\n     employee__attributes__email__universal_id created_by  \\\n0                                        email       None   \n1                                        email       None   \n2                                        email       None   \n3                                        email       None   \n4                                        email       None   \n...                                        ...        ...   \n1097                                     email       None   \n1098                                     email       None   \n1099                                     email       None   \n1100                                     email       None   \n1101                                     email       None   \n\n      certificate__status                created_at                updated_at  \\\n0            not-required 2020-05-19 13:59:45+02:00 2022-11-09 10:34:43+01:00   \n1            not-required 2020-05-19 13:59:45+02:00 2022-11-09 10:34:43+01:00   \n2            not-required 2020-05-19 13:59:47+02:00 2022-11-09 10:34:43+01:00   \n3            not-required 2020-05-19 13:59:47+02:00 2022-11-09 10:34:43+01:00   \n4            not-required 2020-05-19 13:59:58+02:00 2022-11-09 10:34:43+01:00   \n...                   ...                       ...                       ...   \n1097         not-required 2023-03-30 19:36:53+02:00 2023-03-30 19:36:53+02:00   \n1098         not-required 2023-07-03 13:29:15+02:00 2023-07-03 13:29:15+02:00   \n1099         not-required 2023-09-26 14:57:51+02:00 2023-09-26 14:57:51+02:00   \n1100         not-required 2023-09-26 14:57:51+02:00 2023-09-26 14:57:51+02:00   \n1101         not-required 2023-09-26 14:57:55+02:00 2023-09-26 14:57:55+02:00   \n\n           _dlt_load_id         _dlt_id days_count__v_double  \n0     1702550279.979736  ZOH6WcU/Mw79pw                  NaN  \n1     1702550279.979736  iVoElbavICrBQg                  NaN  \n2     1702550279.979736  KwzGsFsSD8STMQ                  NaN  \n3     1702550279.979736  lp7p8mqjCtQdLA                  NaN  \n4     1702550279.979736  zAARW7GcKi4soA                  NaN  \n...                 ...             ...                  ...  \n1097  1702550279.979736  H6f3xCST0dpb6A                  0.5  \n1098  1702550279.979736  lxUnne66li526g                  NaN  \n1099  1702550279.979736  O3ul27ww0ZQj9A                  NaN  \n1100  1702550279.979736  F0peF0qDF+Qw4Q                  0.5  \n1101  1702550279.979736  HT/6Zh7oSoq6uw                  NaN  \n\n[1102 rows x 36 columns]",
      "text/html": "<div>\n<style scoped>\n    .dataframe tbody tr th:only-of-type {\n        vertical-align: middle;\n    }\n\n    .dataframe tbody tr th {\n        vertical-align: top;\n    }\n\n    .dataframe thead th {\n        text-align: right;\n    }\n</style>\n<table border=\"1\" class=\"dataframe\">\n  <thead>\n    <tr style=\"text-align: right;\">\n      <th></th>\n      <th>id</th>\n      <th>status</th>\n      <th>comment</th>\n      <th>start_date</th>\n      <th>end_date</th>\n      <th>days_count</th>\n      <th>half_day_start</th>\n      <th>half_day_end</th>\n      <th>time_off_type__type</th>\n      <th>time_off_type__attributes__id</th>\n      <th>...</th>\n      <th>employee__attributes__email__value</th>\n      <th>employee__attributes__email__type</th>\n      <th>employee__attributes__email__universal_id</th>\n      <th>created_by</th>\n      <th>certificate__status</th>\n      <th>created_at</th>\n      <th>updated_at</th>\n      <th>_dlt_load_id</th>\n      <th>_dlt_id</th>\n      <th>days_count__v_double</th>\n    </tr>\n  </thead>\n  <tbody>\n    <tr>\n      <th>0</th>\n      <td>590798993</td>\n      <td>approved</td>\n      <td></td>\n      <td>2020-06-04 00:00:00+02:00</td>\n      <td>2020-06-18 00:00:00+02:00</td>\n      <td>10.0</td>\n      <td>0</td>\n      <td>0</td>\n      <td>TimeOffType</td>\n      <td>2526184</td>\n      <td>...</td>\n      <td>christian.windholz@demo-sample.com</td>\n      <td>standard</td>\n      <td>email</td>\n      <td>None</td>\n      <td>not-required</td>\n      <td>2020-05-19 13:59:45+02:00</td>\n      <td>2022-11-09 10:34:43+01:00</td>\n      <td>1702550279.979736</td>\n      <td>ZOH6WcU/Mw79pw</td>\n      <td>NaN</td>\n    </tr>\n    <tr>\n      <th>1</th>\n      <td>590798995</td>\n      <td>approved</td>\n      <td></td>\n      <td>2020-11-17 00:00:00+01:00</td>\n      <td>2020-11-23 00:00:00+01:00</td>\n      <td>5.0</td>\n      <td>0</td>\n      <td>0</td>\n      <td>TimeOffType</td>\n      <td>2526184</td>\n      <td>...</td>\n      <td>christian.windholz@demo-sample.com</td>\n      <td>standard</td>\n      <td>email</td>\n      <td>None</td>\n      <td>not-required</td>\n      <td>2020-05-19 13:59:45+02:00</td>\n      <td>2022-11-09 10:34:43+01:00</td>\n      <td>1702550279.979736</td>\n      <td>iVoElbavICrBQg</td>\n      <td>NaN</td>\n    </tr>\n    <tr>\n      <th>2</th>\n      <td>590799006</td>\n      <td>approved</td>\n      <td></td>\n      <td>2020-07-13 00:00:00+02:00</td>\n      <td>2020-07-24 00:00:00+02:00</td>\n      <td>10.0</td>\n      <td>0</td>\n      <td>0</td>\n      <td>TimeOffType</td>\n      <td>2526184</td>\n      <td>...</td>\n      <td>greta.nordyke@demo-sample.com</td>\n      <td>standard</td>\n      <td>email</td>\n      <td>None</td>\n      <td>not-required</td>\n      <td>2020-05-19 13:59:47+02:00</td>\n      <td>2022-11-09 10:34:43+01:00</td>\n      <td>1702550279.979736</td>\n      <td>KwzGsFsSD8STMQ</td>\n      <td>NaN</td>\n    </tr>\n    <tr>\n      <th>3</th>\n      <td>590799008</td>\n      <td>approved</td>\n      <td></td>\n      <td>2020-04-14 00:00:00+02:00</td>\n      <td>2020-04-24 00:00:00+02:00</td>\n      <td>9.0</td>\n      <td>0</td>\n      <td>0</td>\n      <td>TimeOffType</td>\n      <td>2526184</td>\n      <td>...</td>\n      <td>hans.huffer@demo-sample.com</td>\n      <td>standard</td>\n      <td>email</td>\n      <td>None</td>\n      <td>not-required</td>\n      <td>2020-05-19 13:59:47+02:00</td>\n      <td>2022-11-09 10:34:43+01:00</td>\n      <td>1702550279.979736</td>\n      <td>lp7p8mqjCtQdLA</td>\n      <td>NaN</td>\n    </tr>\n    <tr>\n      <th>4</th>\n      <td>590799054</td>\n      <td>approved</td>\n      <td></td>\n      <td>2020-11-02 00:00:00+01:00</td>\n      <td>2020-11-06 00:00:00+01:00</td>\n      <td>5.0</td>\n      <td>0</td>\n      <td>0</td>\n      <td>TimeOffType</td>\n      <td>2526184</td>\n      <td>...</td>\n      <td>rene.storch@demo-sample.com</td>\n      <td>standard</td>\n      <td>email</td>\n      <td>None</td>\n      <td>not-required</td>\n      <td>2020-05-19 13:59:58+02:00</td>\n      <td>2022-11-09 10:34:43+01:00</td>\n      <td>1702550279.979736</td>\n      <td>zAARW7GcKi4soA</td>\n      <td>NaN</td>\n    </tr>\n    <tr>\n      <th>...</th>\n      <td>...</td>\n      <td>...</td>\n      <td>...</td>\n      <td>...</td>\n      <td>...</td>\n      <td>...</td>\n      <td>...</td>\n      <td>...</td>\n      <td>...</td>\n      <td>...</td>\n      <td>...</td>\n      <td>...</td>\n      <td>...</td>\n      <td>...</td>\n      <td>...</td>\n      <td>...</td>\n      <td>...</td>\n      <td>...</td>\n      <td>...</td>\n      <td>...</td>\n      <td>...</td>\n    </tr>\n    <tr>\n      <th>1097</th>\n      <td>590800087</td>\n      <td>approved</td>\n      <td></td>\n      <td>2023-01-10 00:00:00+01:00</td>\n      <td>2023-01-10 00:00:00+01:00</td>\n      <td>NaN</td>\n      <td>1</td>\n      <td>0</td>\n      <td>TimeOffType</td>\n      <td>2526183</td>\n      <td>...</td>\n      <td>lars.keener@demo-sample.com</td>\n      <td>standard</td>\n      <td>email</td>\n      <td>None</td>\n      <td>not-required</td>\n      <td>2023-03-30 19:36:53+02:00</td>\n      <td>2023-03-30 19:36:53+02:00</td>\n      <td>1702550279.979736</td>\n      <td>H6f3xCST0dpb6A</td>\n      <td>0.5</td>\n    </tr>\n    <tr>\n      <th>1098</th>\n      <td>590800133</td>\n      <td>approved</td>\n      <td></td>\n      <td>2023-05-19 00:00:00+02:00</td>\n      <td>2023-05-19 00:00:00+02:00</td>\n      <td>1.0</td>\n      <td>0</td>\n      <td>0</td>\n      <td>TimeOffType</td>\n      <td>2526183</td>\n      <td>...</td>\n      <td>lars.pressly@demo-sample.com</td>\n      <td>standard</td>\n      <td>email</td>\n      <td>None</td>\n      <td>not-required</td>\n      <td>2023-07-03 13:29:15+02:00</td>\n      <td>2023-07-03 13:29:15+02:00</td>\n      <td>1702550279.979736</td>\n      <td>lxUnne66li526g</td>\n      <td>NaN</td>\n    </tr>\n    <tr>\n      <th>1099</th>\n      <td>590800151</td>\n      <td>approved</td>\n      <td></td>\n      <td>2023-08-07 00:00:00+02:00</td>\n      <td>2023-08-07 00:00:00+02:00</td>\n      <td>1.0</td>\n      <td>0</td>\n      <td>0</td>\n      <td>TimeOffType</td>\n      <td>2526183</td>\n      <td>...</td>\n      <td>rene.storch@demo-sample.com</td>\n      <td>standard</td>\n      <td>email</td>\n      <td>None</td>\n      <td>not-required</td>\n      <td>2023-09-26 14:57:51+02:00</td>\n      <td>2023-09-26 14:57:51+02:00</td>\n      <td>1702550279.979736</td>\n      <td>O3ul27ww0ZQj9A</td>\n      <td>NaN</td>\n    </tr>\n    <tr>\n      <th>1100</th>\n      <td>590800153</td>\n      <td>approved</td>\n      <td></td>\n      <td>2023-07-11 00:00:00+02:00</td>\n      <td>2023-07-11 00:00:00+02:00</td>\n      <td>NaN</td>\n      <td>1</td>\n      <td>0</td>\n      <td>TimeOffType</td>\n      <td>2526183</td>\n      <td>...</td>\n      <td>lars.keener@demo-sample.com</td>\n      <td>standard</td>\n      <td>email</td>\n      <td>None</td>\n      <td>not-required</td>\n      <td>2023-09-26 14:57:51+02:00</td>\n      <td>2023-09-26 14:57:51+02:00</td>\n      <td>1702550279.979736</td>\n      <td>F0peF0qDF+Qw4Q</td>\n      <td>0.5</td>\n    </tr>\n    <tr>\n      <th>1101</th>\n      <td>590800164</td>\n      <td>approved</td>\n      <td></td>\n      <td>2023-07-11 00:00:00+02:00</td>\n      <td>2023-07-11 00:00:00+02:00</td>\n      <td>1.0</td>\n      <td>0</td>\n      <td>0</td>\n      <td>TimeOffType</td>\n      <td>2526183</td>\n      <td>...</td>\n      <td>laura.erdmann@demo-sample.com</td>\n      <td>standard</td>\n      <td>email</td>\n      <td>None</td>\n      <td>not-required</td>\n      <td>2023-09-26 14:57:55+02:00</td>\n      <td>2023-09-26 14:57:55+02:00</td>\n      <td>1702550279.979736</td>\n      <td>HT/6Zh7oSoq6uw</td>\n      <td>NaN</td>\n    </tr>\n  </tbody>\n</table>\n<p>1102 rows × 36 columns</p>\n</div>"
     },
     "metadata": {},
     "output_type": "display_data"
    }
   ],
   "source": [
    "stats_table = conn.sql(\"SELECT * FROM absences\").df()\n",
    "display(stats_table)"
   ],
   "metadata": {
    "collapsed": false,
    "ExecuteTime": {
     "end_time": "2023-12-14T10:40:21.700519675Z",
     "start_time": "2023-12-14T10:40:21.388578091Z"
    }
   },
   "id": "8918c7699d787cda"
  }
 ],
 "metadata": {
  "kernelspec": {
   "display_name": "Python 3",
   "language": "python",
   "name": "python3"
  },
  "language_info": {
   "codemirror_mode": {
    "name": "ipython",
    "version": 2
   },
   "file_extension": ".py",
   "mimetype": "text/x-python",
   "name": "python",
   "nbconvert_exporter": "python",
   "pygments_lexer": "ipython2",
   "version": "2.7.6"
  }
 },
 "nbformat": 4,
 "nbformat_minor": 5
}
