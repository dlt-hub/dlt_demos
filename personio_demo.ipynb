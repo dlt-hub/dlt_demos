{
 "cells": [
  {
   "cell_type": "markdown",
   "source": [
    "# Personio demo\n",
    "\n",
    "## Installation\n",
    "Install dlt using pip:"
   ],
   "metadata": {
    "collapsed": false
   },
   "id": "c311c07d72552570"
  },
  {
   "cell_type": "code",
   "execution_count": 1,
   "outputs": [
    {
     "name": "stdout",
     "output_type": "stream",
     "text": [
      "dlt 0.3.25\r\n"
     ]
    }
   ],
   "source": [
    "! pip install -q \"dlt[duckdb]\"\n",
    "! dlt --version"
   ],
   "metadata": {
    "collapsed": false,
    "ExecuteTime": {
     "start_time": "2023-12-14T10:35:24.599972578Z"
    }
   },
   "id": "initial_id"
  },
  {
   "cell_type": "markdown",
   "source": [
    "Install additional dependencies for this demo:"
   ],
   "metadata": {
    "collapsed": false
   },
   "id": "1557f8d596eac8fb"
  },
  {
   "cell_type": "code",
   "execution_count": 15,
   "outputs": [],
   "source": [
    "!pip install -q pandas"
   ],
   "metadata": {
    "collapsed": false,
    "ExecuteTime": {
     "end_time": "2023-12-14T10:42:19.473358544Z",
     "start_time": "2023-12-14T10:42:18.397921538Z"
    }
   },
   "id": "dd83c420722543e4"
  },
  {
   "cell_type": "markdown",
   "source": [
    "## Initialize the verified source\n",
    "This command will initialize the pipeline example with Personio as the source and `duckdb` as the destination:"
   ],
   "metadata": {
    "collapsed": false
   },
   "id": "7bc65e9bebfc805e"
  },
  {
   "cell_type": "code",
   "execution_count": 2,
   "outputs": [
    {
     "name": "stdout",
     "output_type": "stream",
     "text": [
      "Looking up the init scripts in \u001B[1mhttps://github.com/dlt-hub/verified-sources.git\u001B[0m...\r\n",
      "No files to update, exiting\r\n"
     ]
    }
   ],
   "source": [
    "! dlt --non-interactive init personio duckdb"
   ],
   "metadata": {
    "collapsed": false,
    "ExecuteTime": {
     "end_time": "2023-12-14T10:35:28.285928791Z",
     "start_time": "2023-12-14T10:35:26.190083Z"
    }
   },
   "id": "3f038cb4b604128"
  },
  {
   "cell_type": "markdown",
   "source": [
    "## Add credentials\n",
    "Set credentials in the `.dlt/secrets.toml` file\n",
    "\n",
    "```toml\n",
    "[sources.personio]\n",
    "client_id = \"client_id\" # please set me up!\n",
    "client_secret = \"client_secret\" # please set me up!\n",
    "```\n",
    "\n",
    "## Create the pipeline\n",
    "\n",
    "Define the pipeline with `dlt.pipleine()` and look what resources are available for `personio_source`:"
   ],
   "metadata": {
    "collapsed": false
   },
   "id": "89fbb0886880bc00"
  },
  {
   "cell_type": "code",
   "execution_count": 3,
   "outputs": [
    {
     "data": {
      "text/plain": "dict_keys(['employees', 'absence_types', 'absences', 'attendances', 'projects', 'document_categories', 'employees_absences_balance', 'custom_reports_list', 'custom_reports'])"
     },
     "execution_count": 3,
     "metadata": {},
     "output_type": "execute_result"
    }
   ],
   "source": [
    "\"\"\"Pipeline to load personio data into Duckdb.\"\"\"\n",
    "import dlt\n",
    "from personio import personio_source\n",
    "\n",
    "pipeline = dlt.pipeline(\n",
    "    pipeline_name=\"personio\", destination='duckdb', dataset_name=\"personio_data\"\n",
    ")\n",
    "personio_data = personio_source()\n",
    "personio_data.resources.keys()"
   ],
   "metadata": {
    "collapsed": false,
    "ExecuteTime": {
     "end_time": "2023-12-14T15:27:02.762785264Z",
     "start_time": "2023-12-14T15:27:02.454264426Z"
    }
   },
   "id": "b069c55ab4bfcda3"
  },
  {
   "cell_type": "markdown",
   "source": [
    "Let's load only \"employees\", \"absences\" and \"attendances\" resources:"
   ],
   "metadata": {
    "collapsed": false
   },
   "id": "5d9961e7f9dc4502"
  },
  {
   "cell_type": "code",
   "execution_count": 4,
   "outputs": [
    {
     "name": "stdout",
     "output_type": "stream",
     "text": [
      "Pipeline personio completed in 38.59 seconds\n",
      "1 load package(s) were loaded to destination duckdb and into dataset personio_data\n",
      "The duckdb destination used duckdb:////home/alenaastrakhantseva/dlthub/dlt_demos/personio.duckdb location to store data\n",
      "Load package 1702567952.01384 is LOADED and contains no failed jobs\n"
     ]
    }
   ],
   "source": [
    "resources = [\"employees\", \"absences\", \"attendances\"]\n",
    "load_info = pipeline.run(\n",
    "    personio_data.with_resources(*resources),\n",
    ")\n",
    "print(load_info)"
   ],
   "metadata": {
    "collapsed": false,
    "ExecuteTime": {
     "end_time": "2023-12-14T15:32:33.751654284Z",
     "start_time": "2023-12-14T15:31:55.108712217Z"
    }
   },
   "id": "cc33c251ce5f796b"
  },
  {
   "cell_type": "code",
   "execution_count": 5,
   "outputs": [
    {
     "data": {
      "text/plain": "┌──────────┬──────────────────────┬──────────────────────┬──────────────────────┬──────────────────────────┬───────────┐\n│ database │        schema        │         name         │     column_names     │       column_types       │ temporary │\n│ varchar  │       varchar        │       varchar        │      varchar[]       │        varchar[]         │  boolean  │\n├──────────┼──────────────────────┼──────────────────────┼──────────────────────┼──────────────────────────┼───────────┤\n│ personio │ personio_data        │ _dlt_loads           │ [load_id, schema_n…  │ [VARCHAR, VARCHAR, BIG…  │ false     │\n│ personio │ personio_data        │ _dlt_pipeline_state  │ [version, engine_v…  │ [BIGINT, BIGINT, VARCH…  │ false     │\n│ personio │ personio_data        │ _dlt_version         │ [version, engine_v…  │ [BIGINT, BIGINT, TIMES…  │ false     │\n│ personio │ personio_data        │ absences             │ [id, status, comme…  │ [BIGINT, VARCHAR, VARC…  │ false     │\n│ personio │ personio_data        │ attendances          │ [id, employee, dat…  │ [BIGINT, BIGINT, DATE,…  │ false     │\n│ personio │ personio_data        │ employees            │ [id, first_name, l…  │ [BIGINT, VARCHAR, VARC…  │ false     │\n│ personio │ personio_data        │ employees__absence…  │ [type, attributes_…  │ [VARCHAR, BIGINT, VARC…  │ false     │\n│ personio │ personio_data        │ employees__cost_ce…  │ [type, attributes_…  │ [VARCHAR, BIGINT, VARC…  │ false     │\n│ personio │ personio_data_stag…  │ _dlt_version         │ [version, engine_v…  │ [BIGINT, BIGINT, TIMES…  │ false     │\n│ personio │ personio_data_stag…  │ absences             │ [id, status, comme…  │ [BIGINT, VARCHAR, VARC…  │ false     │\n│ personio │ personio_data_stag…  │ attendances          │ [id, employee, dat…  │ [BIGINT, BIGINT, DATE,…  │ false     │\n│ personio │ personio_data_stag…  │ employees            │ [id, first_name, l…  │ [BIGINT, VARCHAR, VARC…  │ false     │\n│ personio │ personio_data_stag…  │ employees__absence…  │ [type, attributes_…  │ [VARCHAR, BIGINT, VARC…  │ false     │\n│ personio │ personio_data_stag…  │ employees__cost_ce…  │ [type, attributes_…  │ [VARCHAR, BIGINT, VARC…  │ false     │\n├──────────┴──────────────────────┴──────────────────────┴──────────────────────┴──────────────────────────┴───────────┤\n│ 14 rows                                                                                                    6 columns │\n└──────────────────────────────────────────────────────────────────────────────────────────────────────────────────────┘"
     },
     "metadata": {},
     "output_type": "display_data"
    }
   ],
   "source": [
    "import duckdb\n",
    "# a database 'chess_pipeline.duckdb' was created in working directory so just connect to it\n",
    "conn = duckdb.connect(f\"{pipeline.pipeline_name}.duckdb\")\n",
    "\n",
    "# this lets us query data without adding schema prefix to table names\n",
    "conn.sql(f\"SET search_path = '{pipeline.dataset_name}'\")\n",
    "\n",
    "# list all tables\n",
    "display(conn.sql(\"DESCRIBE\"))"
   ],
   "metadata": {
    "collapsed": false,
    "ExecuteTime": {
     "end_time": "2023-12-14T15:32:40.529694304Z",
     "start_time": "2023-12-14T15:32:40.478180022Z"
    }
   },
   "id": "b36d7360ef7e97fb"
  },
  {
   "cell_type": "code",
   "execution_count": 9,
   "outputs": [
    {
     "data": {
      "text/plain": "             id    status comment                start_date  \\\n0     590798986  approved         2020-05-07 00:00:00+02:00   \n1     590799031  approved         2020-10-05 00:00:00+02:00   \n2     590799032  approved         2020-12-15 00:00:00+01:00   \n3     590799042  approved         2020-03-02 00:00:00+01:00   \n4     590799052  approved         2020-04-06 00:00:00+02:00   \n...         ...       ...     ...                       ...   \n1097  590800092  approved         2023-02-03 00:00:00+01:00   \n1098  590800100  approved         2023-02-03 00:00:00+01:00   \n1099  590800113  approved         2023-05-16 00:00:00+02:00   \n1100  590800132  approved         2023-04-11 00:00:00+02:00   \n1101  590800152  approved         2023-07-14 00:00:00+02:00   \n\n                      end_date  days_count  half_day_start  half_day_end  \\\n0    2020-05-14 00:00:00+02:00         6.0               0             0   \n1    2020-10-09 00:00:00+02:00         5.0               0             0   \n2    2020-12-18 00:00:00+01:00         4.0               0             0   \n3    2020-03-15 00:00:00+01:00        10.0               0             0   \n4    2020-04-08 00:00:00+02:00         3.0               0             0   \n...                        ...         ...             ...           ...   \n1097 2023-02-03 00:00:00+01:00         1.0               0             0   \n1098 2023-02-03 00:00:00+01:00         1.0               0             0   \n1099 2023-05-16 00:00:00+02:00         1.0               0             0   \n1100 2023-04-11 00:00:00+02:00         1.0               0             0   \n1101 2023-07-14 00:00:00+02:00         1.0               0             0   \n\n     time_off_type__type  time_off_type__attributes__id  ...  \\\n0            TimeOffType                        2526184  ...   \n1            TimeOffType                        2526184  ...   \n2            TimeOffType                        2526184  ...   \n3            TimeOffType                        2526184  ...   \n4            TimeOffType                        2526184  ...   \n...                  ...                            ...  ...   \n1097         TimeOffType                        2526183  ...   \n1098         TimeOffType                        2526182  ...   \n1099         TimeOffType                        2526183  ...   \n1100         TimeOffType                        2526183  ...   \n1101         TimeOffType                        2526183  ...   \n\n     employee__attributes__email__value employee__attributes__email__type  \\\n0           anibal.rubi@demo-sample.com                          standard   \n1         leonard.ennis@demo-sample.com                          standard   \n2         leonard.ennis@demo-sample.com                          standard   \n3         max.schmiedel@demo-sample.com                          standard   \n4           rene.storch@demo-sample.com                          standard   \n...                                 ...                               ...   \n1097          susan.neu@demo-sample.com                          standard   \n1098      cristi.widmer@demo-sample.com                          standard   \n1099        adrien.soza@demo-sample.com                          standard   \n1100      laura.erdmann@demo-sample.com                          standard   \n1101     terisa.mancuso@demo-sample.com                          standard   \n\n     employee__attributes__email__universal_id created_by  \\\n0                                        email       None   \n1                                        email       None   \n2                                        email       None   \n3                                        email       None   \n4                                        email       None   \n...                                        ...        ...   \n1097                                     email       None   \n1098                                     email       None   \n1099                                     email       None   \n1100                                     email       None   \n1101                                     email       None   \n\n      certificate__status                created_at                updated_at  \\\n0            not-required 2020-05-19 13:59:43+02:00 2022-11-09 10:34:43+01:00   \n1            not-required 2020-05-19 13:59:53+02:00 2022-11-09 10:34:43+01:00   \n2            not-required 2020-05-19 13:59:53+02:00 2022-11-09 10:34:43+01:00   \n3            not-required 2020-05-19 13:59:56+02:00 2022-11-09 10:34:43+01:00   \n4            not-required 2020-05-19 13:59:58+02:00 2022-11-09 10:34:43+01:00   \n...                   ...                       ...                       ...   \n1097         not-required 2023-03-30 19:36:54+02:00 2023-03-30 19:36:54+02:00   \n1098         not-required 2023-03-30 19:36:55+02:00 2023-03-30 19:36:55+02:00   \n1099         not-required 2023-07-03 13:29:10+02:00 2023-07-03 13:29:10+02:00   \n1100         not-required 2023-07-03 13:29:15+02:00 2023-07-03 13:29:15+02:00   \n1101         not-required 2023-09-26 14:57:51+02:00 2023-09-26 14:57:51+02:00   \n\n          _dlt_load_id         _dlt_id days_count__v_double  \n0     1702567952.01384  IZHxe+tnBt8BVg                  NaN  \n1     1702567952.01384  Rcbm+wz67uDM2w                  NaN  \n2     1702567952.01384  tecsUhu6MxC75A                  NaN  \n3     1702567952.01384  gOZxs6IwQy90GA                  NaN  \n4     1702567952.01384  zH79HlUndH3tJw                  NaN  \n...                ...             ...                  ...  \n1097  1702567952.01384  c/vFwZr9s+z4Lw                  NaN  \n1098  1702567952.01384  yyX1GC30W0ztAQ                  NaN  \n1099  1702567952.01384  cyCuZAu/N9GErw                  NaN  \n1100  1702567952.01384  P+pLBR+6BMJksQ                  NaN  \n1101  1702567952.01384  wyO+72iQDEhrvA                  NaN  \n\n[1102 rows x 36 columns]",
      "text/html": "<div>\n<style scoped>\n    .dataframe tbody tr th:only-of-type {\n        vertical-align: middle;\n    }\n\n    .dataframe tbody tr th {\n        vertical-align: top;\n    }\n\n    .dataframe thead th {\n        text-align: right;\n    }\n</style>\n<table border=\"1\" class=\"dataframe\">\n  <thead>\n    <tr style=\"text-align: right;\">\n      <th></th>\n      <th>id</th>\n      <th>status</th>\n      <th>comment</th>\n      <th>start_date</th>\n      <th>end_date</th>\n      <th>days_count</th>\n      <th>half_day_start</th>\n      <th>half_day_end</th>\n      <th>time_off_type__type</th>\n      <th>time_off_type__attributes__id</th>\n      <th>...</th>\n      <th>employee__attributes__email__value</th>\n      <th>employee__attributes__email__type</th>\n      <th>employee__attributes__email__universal_id</th>\n      <th>created_by</th>\n      <th>certificate__status</th>\n      <th>created_at</th>\n      <th>updated_at</th>\n      <th>_dlt_load_id</th>\n      <th>_dlt_id</th>\n      <th>days_count__v_double</th>\n    </tr>\n  </thead>\n  <tbody>\n    <tr>\n      <th>0</th>\n      <td>590798986</td>\n      <td>approved</td>\n      <td></td>\n      <td>2020-05-07 00:00:00+02:00</td>\n      <td>2020-05-14 00:00:00+02:00</td>\n      <td>6.0</td>\n      <td>0</td>\n      <td>0</td>\n      <td>TimeOffType</td>\n      <td>2526184</td>\n      <td>...</td>\n      <td>anibal.rubi@demo-sample.com</td>\n      <td>standard</td>\n      <td>email</td>\n      <td>None</td>\n      <td>not-required</td>\n      <td>2020-05-19 13:59:43+02:00</td>\n      <td>2022-11-09 10:34:43+01:00</td>\n      <td>1702567952.01384</td>\n      <td>IZHxe+tnBt8BVg</td>\n      <td>NaN</td>\n    </tr>\n    <tr>\n      <th>1</th>\n      <td>590799031</td>\n      <td>approved</td>\n      <td></td>\n      <td>2020-10-05 00:00:00+02:00</td>\n      <td>2020-10-09 00:00:00+02:00</td>\n      <td>5.0</td>\n      <td>0</td>\n      <td>0</td>\n      <td>TimeOffType</td>\n      <td>2526184</td>\n      <td>...</td>\n      <td>leonard.ennis@demo-sample.com</td>\n      <td>standard</td>\n      <td>email</td>\n      <td>None</td>\n      <td>not-required</td>\n      <td>2020-05-19 13:59:53+02:00</td>\n      <td>2022-11-09 10:34:43+01:00</td>\n      <td>1702567952.01384</td>\n      <td>Rcbm+wz67uDM2w</td>\n      <td>NaN</td>\n    </tr>\n    <tr>\n      <th>2</th>\n      <td>590799032</td>\n      <td>approved</td>\n      <td></td>\n      <td>2020-12-15 00:00:00+01:00</td>\n      <td>2020-12-18 00:00:00+01:00</td>\n      <td>4.0</td>\n      <td>0</td>\n      <td>0</td>\n      <td>TimeOffType</td>\n      <td>2526184</td>\n      <td>...</td>\n      <td>leonard.ennis@demo-sample.com</td>\n      <td>standard</td>\n      <td>email</td>\n      <td>None</td>\n      <td>not-required</td>\n      <td>2020-05-19 13:59:53+02:00</td>\n      <td>2022-11-09 10:34:43+01:00</td>\n      <td>1702567952.01384</td>\n      <td>tecsUhu6MxC75A</td>\n      <td>NaN</td>\n    </tr>\n    <tr>\n      <th>3</th>\n      <td>590799042</td>\n      <td>approved</td>\n      <td></td>\n      <td>2020-03-02 00:00:00+01:00</td>\n      <td>2020-03-15 00:00:00+01:00</td>\n      <td>10.0</td>\n      <td>0</td>\n      <td>0</td>\n      <td>TimeOffType</td>\n      <td>2526184</td>\n      <td>...</td>\n      <td>max.schmiedel@demo-sample.com</td>\n      <td>standard</td>\n      <td>email</td>\n      <td>None</td>\n      <td>not-required</td>\n      <td>2020-05-19 13:59:56+02:00</td>\n      <td>2022-11-09 10:34:43+01:00</td>\n      <td>1702567952.01384</td>\n      <td>gOZxs6IwQy90GA</td>\n      <td>NaN</td>\n    </tr>\n    <tr>\n      <th>4</th>\n      <td>590799052</td>\n      <td>approved</td>\n      <td></td>\n      <td>2020-04-06 00:00:00+02:00</td>\n      <td>2020-04-08 00:00:00+02:00</td>\n      <td>3.0</td>\n      <td>0</td>\n      <td>0</td>\n      <td>TimeOffType</td>\n      <td>2526184</td>\n      <td>...</td>\n      <td>rene.storch@demo-sample.com</td>\n      <td>standard</td>\n      <td>email</td>\n      <td>None</td>\n      <td>not-required</td>\n      <td>2020-05-19 13:59:58+02:00</td>\n      <td>2022-11-09 10:34:43+01:00</td>\n      <td>1702567952.01384</td>\n      <td>zH79HlUndH3tJw</td>\n      <td>NaN</td>\n    </tr>\n    <tr>\n      <th>...</th>\n      <td>...</td>\n      <td>...</td>\n      <td>...</td>\n      <td>...</td>\n      <td>...</td>\n      <td>...</td>\n      <td>...</td>\n      <td>...</td>\n      <td>...</td>\n      <td>...</td>\n      <td>...</td>\n      <td>...</td>\n      <td>...</td>\n      <td>...</td>\n      <td>...</td>\n      <td>...</td>\n      <td>...</td>\n      <td>...</td>\n      <td>...</td>\n      <td>...</td>\n      <td>...</td>\n    </tr>\n    <tr>\n      <th>1097</th>\n      <td>590800092</td>\n      <td>approved</td>\n      <td></td>\n      <td>2023-02-03 00:00:00+01:00</td>\n      <td>2023-02-03 00:00:00+01:00</td>\n      <td>1.0</td>\n      <td>0</td>\n      <td>0</td>\n      <td>TimeOffType</td>\n      <td>2526183</td>\n      <td>...</td>\n      <td>susan.neu@demo-sample.com</td>\n      <td>standard</td>\n      <td>email</td>\n      <td>None</td>\n      <td>not-required</td>\n      <td>2023-03-30 19:36:54+02:00</td>\n      <td>2023-03-30 19:36:54+02:00</td>\n      <td>1702567952.01384</td>\n      <td>c/vFwZr9s+z4Lw</td>\n      <td>NaN</td>\n    </tr>\n    <tr>\n      <th>1098</th>\n      <td>590800100</td>\n      <td>approved</td>\n      <td></td>\n      <td>2023-02-03 00:00:00+01:00</td>\n      <td>2023-02-03 00:00:00+01:00</td>\n      <td>1.0</td>\n      <td>0</td>\n      <td>0</td>\n      <td>TimeOffType</td>\n      <td>2526182</td>\n      <td>...</td>\n      <td>cristi.widmer@demo-sample.com</td>\n      <td>standard</td>\n      <td>email</td>\n      <td>None</td>\n      <td>not-required</td>\n      <td>2023-03-30 19:36:55+02:00</td>\n      <td>2023-03-30 19:36:55+02:00</td>\n      <td>1702567952.01384</td>\n      <td>yyX1GC30W0ztAQ</td>\n      <td>NaN</td>\n    </tr>\n    <tr>\n      <th>1099</th>\n      <td>590800113</td>\n      <td>approved</td>\n      <td></td>\n      <td>2023-05-16 00:00:00+02:00</td>\n      <td>2023-05-16 00:00:00+02:00</td>\n      <td>1.0</td>\n      <td>0</td>\n      <td>0</td>\n      <td>TimeOffType</td>\n      <td>2526183</td>\n      <td>...</td>\n      <td>adrien.soza@demo-sample.com</td>\n      <td>standard</td>\n      <td>email</td>\n      <td>None</td>\n      <td>not-required</td>\n      <td>2023-07-03 13:29:10+02:00</td>\n      <td>2023-07-03 13:29:10+02:00</td>\n      <td>1702567952.01384</td>\n      <td>cyCuZAu/N9GErw</td>\n      <td>NaN</td>\n    </tr>\n    <tr>\n      <th>1100</th>\n      <td>590800132</td>\n      <td>approved</td>\n      <td></td>\n      <td>2023-04-11 00:00:00+02:00</td>\n      <td>2023-04-11 00:00:00+02:00</td>\n      <td>1.0</td>\n      <td>0</td>\n      <td>0</td>\n      <td>TimeOffType</td>\n      <td>2526183</td>\n      <td>...</td>\n      <td>laura.erdmann@demo-sample.com</td>\n      <td>standard</td>\n      <td>email</td>\n      <td>None</td>\n      <td>not-required</td>\n      <td>2023-07-03 13:29:15+02:00</td>\n      <td>2023-07-03 13:29:15+02:00</td>\n      <td>1702567952.01384</td>\n      <td>P+pLBR+6BMJksQ</td>\n      <td>NaN</td>\n    </tr>\n    <tr>\n      <th>1101</th>\n      <td>590800152</td>\n      <td>approved</td>\n      <td></td>\n      <td>2023-07-14 00:00:00+02:00</td>\n      <td>2023-07-14 00:00:00+02:00</td>\n      <td>1.0</td>\n      <td>0</td>\n      <td>0</td>\n      <td>TimeOffType</td>\n      <td>2526183</td>\n      <td>...</td>\n      <td>terisa.mancuso@demo-sample.com</td>\n      <td>standard</td>\n      <td>email</td>\n      <td>None</td>\n      <td>not-required</td>\n      <td>2023-09-26 14:57:51+02:00</td>\n      <td>2023-09-26 14:57:51+02:00</td>\n      <td>1702567952.01384</td>\n      <td>wyO+72iQDEhrvA</td>\n      <td>NaN</td>\n    </tr>\n  </tbody>\n</table>\n<p>1102 rows × 36 columns</p>\n</div>"
     },
     "metadata": {},
     "output_type": "display_data"
    }
   ],
   "source": [
    "stats_table = conn.sql(\"SELECT * FROM absences\").df()\n",
    "display(stats_table)"
   ],
   "metadata": {
    "collapsed": false,
    "ExecuteTime": {
     "end_time": "2023-12-14T15:33:20.388334356Z",
     "start_time": "2023-12-14T15:33:20.357811386Z"
    }
   },
   "id": "8918c7699d787cda"
  },
  {
   "cell_type": "code",
   "execution_count": null,
   "outputs": [],
   "source": [],
   "metadata": {
    "collapsed": false
   },
   "id": "aa3d9db5f9a81f65"
  }
 ],
 "metadata": {
  "kernelspec": {
   "display_name": "Python 3",
   "language": "python",
   "name": "python3"
  },
  "language_info": {
   "codemirror_mode": {
    "name": "ipython",
    "version": 2
   },
   "file_extension": ".py",
   "mimetype": "text/x-python",
   "name": "python",
   "nbconvert_exporter": "python",
   "pygments_lexer": "ipython2",
   "version": "2.7.6"
  }
 },
 "nbformat": 4,
 "nbformat_minor": 5
}
