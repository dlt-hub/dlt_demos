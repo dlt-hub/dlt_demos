{
  "nbformat": 4,
  "nbformat_minor": 0,
  "metadata": {
    "colab": {
      "provenance": []
    },
    "kernelspec": {
      "name": "python3",
      "display_name": "Python 3"
    },
    "language_info": {
      "name": "python"
    }
  },
  "cells": [
    {
      "cell_type": "code",
      "execution_count": null,
      "metadata": {
        "id": "RQLfUT_z5MZ9"
      },
      "outputs": [],
      "source": [
        "%%capture\n",
        "!pip install dlt[duckdb] # Install dlt with all the necessary DuckDB dependencies\n",
        "!dlt --version"
      ]
    },
    {
      "cell_type": "markdown",
      "source": [
        "# Dlt Schema evolution demo:\n"
      ],
      "metadata": {
        "id": "e4y4sQ78P_OM"
      }
    },
    {
      "cell_type": "markdown",
      "source": [
        "## Assume we have the following data - we can load it, and inspect it. Take particular note of the building column - it's loaded to duckdb as Bigint. This column will later come as a string, and we can see what happens."
      ],
      "metadata": {
        "id": "6wbi48_ISIRG"
      }
    },
    {
      "cell_type": "code",
      "source": [
        "def citizens_pipeline():\n",
        "    people = [{\"name\": \"Max\", \"age\": 34, \"Nationality\": \"Germany\", \"Street\": \"Müllerstr.\", \"Building\": 131},\n",
        "            {\"name\": \"Aisha\", \"age\": 19, \"Nationality\": \"Ukraine\", \"Street\": \"Karl Marx Str.\", \"Building\": 26}\n",
        "    ]\n",
        "    for person in people:\n",
        "        yield person"
      ],
      "metadata": {
        "id": "YyjWJmkF5TxN"
      },
      "execution_count": null,
      "outputs": []
    },
    {
      "cell_type": "code",
      "source": [
        "import dlt\n",
        "#make a connection to the destination\n",
        "pipeline = dlt.pipeline(destination=\"duckdb\", dataset_name=\"people\")\n",
        "# Load data with replace\n",
        "info = pipeline.run(citizens_pipeline, table_name=\"people\", write_disposition='replace')"
      ],
      "metadata": {
        "id": "quZaQTrD59VX"
      },
      "execution_count": null,
      "outputs": []
    },
    {
      "cell_type": "code",
      "source": [
        "import duckdb\n",
        "from google.colab import data_table\n",
        "data_table.enable_dataframe_formatter()\n",
        "\n",
        "conn = duckdb.connect(f\"{pipeline.pipeline_name}.duckdb\")\n",
        "\n",
        "conn.sql(f\"SET search_path = '{pipeline.dataset_name}'\")\n",
        "\n",
        "display(conn.sql(\"DESCRIBE\"))\n",
        "\n",
        "people_table = conn.sql(\"SELECT * FROM people\").df()\n",
        "display(people_table)"
      ],
      "metadata": {
        "colab": {
          "base_uri": "https://localhost:8080/",
          "height": 417
        },
        "id": "wT6NAke96GFu",
        "outputId": "f998b082-f121-4fdd-e911-e504fd5715b9"
      },
      "execution_count": null,
      "outputs": [
        {
          "output_type": "display_data",
          "data": {
            "text/plain": [
              "┌─────────────────────┬──────────────────────┬─────────────────────────────────────────────────────────────┬───────────┐\n",
              "│     table_name      │     column_names     │                        column_types                         │ temporary │\n",
              "│       varchar       │      varchar[]       │                          varchar[]                          │  boolean  │\n",
              "├─────────────────────┼──────────────────────┼─────────────────────────────────────────────────────────────┼───────────┤\n",
              "│ _dlt_loads          │ [load_id, schema_n…  │ [VARCHAR, VARCHAR, BIGINT, TIMESTAMP WITH TIME ZONE]        │ false     │\n",
              "│ _dlt_pipeline_state │ [version, engine_v…  │ [BIGINT, BIGINT, VARCHAR, VARCHAR, TIMESTAMP WITH TIME ZO…  │ false     │\n",
              "│ _dlt_version        │ [version, engine_v…  │ [BIGINT, BIGINT, TIMESTAMP WITH TIME ZONE, VARCHAR, VARCH…  │ false     │\n",
              "│ people              │ [name, age, nation…  │ [VARCHAR, BIGINT, VARCHAR, VARCHAR, BIGINT, VARCHAR, VARC…  │ false     │\n",
              "└─────────────────────┴──────────────────────┴─────────────────────────────────────────────────────────────┴───────────┘"
            ]
          },
          "metadata": {}
        },
        {
          "output_type": "display_data",
          "data": {
            "text/plain": [
              "    name  age nationality          street  building      _dlt_load_id  \\\n",
              "0    Max   34     Germany      Müllerstr.       131  1684260729.81942   \n",
              "1  Aisha   19     Ukraine  Karl Marx Str.        26  1684260729.81942   \n",
              "\n",
              "          _dlt_id  \n",
              "0  kY1EJLY8gxRKrQ  \n",
              "1  egGe6fl4ld2PSA  "
            ],
            "text/html": [
              "\n",
              "  <div id=\"df-127a12ff-823a-47e9-90c4-3d63847443a5\">\n",
              "    <div class=\"colab-df-container\">\n",
              "      <div>\n",
              "<style scoped>\n",
              "    .dataframe tbody tr th:only-of-type {\n",
              "        vertical-align: middle;\n",
              "    }\n",
              "\n",
              "    .dataframe tbody tr th {\n",
              "        vertical-align: top;\n",
              "    }\n",
              "\n",
              "    .dataframe thead th {\n",
              "        text-align: right;\n",
              "    }\n",
              "</style>\n",
              "<table border=\"1\" class=\"dataframe\">\n",
              "  <thead>\n",
              "    <tr style=\"text-align: right;\">\n",
              "      <th></th>\n",
              "      <th>name</th>\n",
              "      <th>age</th>\n",
              "      <th>nationality</th>\n",
              "      <th>street</th>\n",
              "      <th>building</th>\n",
              "      <th>_dlt_load_id</th>\n",
              "      <th>_dlt_id</th>\n",
              "    </tr>\n",
              "  </thead>\n",
              "  <tbody>\n",
              "    <tr>\n",
              "      <th>0</th>\n",
              "      <td>Max</td>\n",
              "      <td>34</td>\n",
              "      <td>Germany</td>\n",
              "      <td>Müllerstr.</td>\n",
              "      <td>131</td>\n",
              "      <td>1684260729.81942</td>\n",
              "      <td>kY1EJLY8gxRKrQ</td>\n",
              "    </tr>\n",
              "    <tr>\n",
              "      <th>1</th>\n",
              "      <td>Aisha</td>\n",
              "      <td>19</td>\n",
              "      <td>Ukraine</td>\n",
              "      <td>Karl Marx Str.</td>\n",
              "      <td>26</td>\n",
              "      <td>1684260729.81942</td>\n",
              "      <td>egGe6fl4ld2PSA</td>\n",
              "    </tr>\n",
              "  </tbody>\n",
              "</table>\n",
              "</div>\n",
              "      <button class=\"colab-df-convert\" onclick=\"convertToInteractive('df-127a12ff-823a-47e9-90c4-3d63847443a5')\"\n",
              "              title=\"Convert this dataframe to an interactive table.\"\n",
              "              style=\"display:none;\">\n",
              "        \n",
              "  <svg xmlns=\"http://www.w3.org/2000/svg\" height=\"24px\"viewBox=\"0 0 24 24\"\n",
              "       width=\"24px\">\n",
              "    <path d=\"M0 0h24v24H0V0z\" fill=\"none\"/>\n",
              "    <path d=\"M18.56 5.44l.94 2.06.94-2.06 2.06-.94-2.06-.94-.94-2.06-.94 2.06-2.06.94zm-11 1L8.5 8.5l.94-2.06 2.06-.94-2.06-.94L8.5 2.5l-.94 2.06-2.06.94zm10 10l.94 2.06.94-2.06 2.06-.94-2.06-.94-.94-2.06-.94 2.06-2.06.94z\"/><path d=\"M17.41 7.96l-1.37-1.37c-.4-.4-.92-.59-1.43-.59-.52 0-1.04.2-1.43.59L10.3 9.45l-7.72 7.72c-.78.78-.78 2.05 0 2.83L4 21.41c.39.39.9.59 1.41.59.51 0 1.02-.2 1.41-.59l7.78-7.78 2.81-2.81c.8-.78.8-2.07 0-2.86zM5.41 20L4 18.59l7.72-7.72 1.47 1.35L5.41 20z\"/>\n",
              "  </svg>\n",
              "      </button>\n",
              "      \n",
              "  <style>\n",
              "    .colab-df-container {\n",
              "      display:flex;\n",
              "      flex-wrap:wrap;\n",
              "      gap: 12px;\n",
              "    }\n",
              "\n",
              "    .colab-df-convert {\n",
              "      background-color: #E8F0FE;\n",
              "      border: none;\n",
              "      border-radius: 50%;\n",
              "      cursor: pointer;\n",
              "      display: none;\n",
              "      fill: #1967D2;\n",
              "      height: 32px;\n",
              "      padding: 0 0 0 0;\n",
              "      width: 32px;\n",
              "    }\n",
              "\n",
              "    .colab-df-convert:hover {\n",
              "      background-color: #E2EBFA;\n",
              "      box-shadow: 0px 1px 2px rgba(60, 64, 67, 0.3), 0px 1px 3px 1px rgba(60, 64, 67, 0.15);\n",
              "      fill: #174EA6;\n",
              "    }\n",
              "\n",
              "    [theme=dark] .colab-df-convert {\n",
              "      background-color: #3B4455;\n",
              "      fill: #D2E3FC;\n",
              "    }\n",
              "\n",
              "    [theme=dark] .colab-df-convert:hover {\n",
              "      background-color: #434B5C;\n",
              "      box-shadow: 0px 1px 3px 1px rgba(0, 0, 0, 0.15);\n",
              "      filter: drop-shadow(0px 1px 2px rgba(0, 0, 0, 0.3));\n",
              "      fill: #FFFFFF;\n",
              "    }\n",
              "  </style>\n",
              "\n",
              "      <script>\n",
              "        const buttonEl =\n",
              "          document.querySelector('#df-127a12ff-823a-47e9-90c4-3d63847443a5 button.colab-df-convert');\n",
              "        buttonEl.style.display =\n",
              "          google.colab.kernel.accessAllowed ? 'block' : 'none';\n",
              "\n",
              "        async function convertToInteractive(key) {\n",
              "          const element = document.querySelector('#df-127a12ff-823a-47e9-90c4-3d63847443a5');\n",
              "          const dataTable =\n",
              "            await google.colab.kernel.invokeFunction('convertToInteractive',\n",
              "                                                     [key], {});\n",
              "          if (!dataTable) return;\n",
              "\n",
              "          const docLinkHtml = 'Like what you see? Visit the ' +\n",
              "            '<a target=\"_blank\" href=https://colab.research.google.com/notebooks/data_table.ipynb>data table notebook</a>'\n",
              "            + ' to learn more about interactive tables.';\n",
              "          element.innerHTML = '';\n",
              "          dataTable['output_type'] = 'display_data';\n",
              "          await google.colab.output.renderOutput(dataTable, element);\n",
              "          const docLink = document.createElement('div');\n",
              "          docLink.innerHTML = docLinkHtml;\n",
              "          element.appendChild(docLink);\n",
              "        }\n",
              "      </script>\n",
              "    </div>\n",
              "  </div>\n",
              "  "
            ],
            "application/vnd.google.colaboratory.module+javascript": "\n      import \"https://ssl.gstatic.com/colaboratory/data_table/99dac6621f6ae8c4/data_table.js\";\n\n      window.createDataTable({\n        data: [[{\n            'v': 0,\n            'f': \"0\",\n        },\n\"Max\",\n{\n            'v': 34,\n            'f': \"34\",\n        },\n\"Germany\",\n\"M\\u00fcllerstr.\",\n{\n            'v': 131,\n            'f': \"131\",\n        },\n\"1684260729.81942\",\n\"kY1EJLY8gxRKrQ\"],\n [{\n            'v': 1,\n            'f': \"1\",\n        },\n\"Aisha\",\n{\n            'v': 19,\n            'f': \"19\",\n        },\n\"Ukraine\",\n\"Karl Marx Str.\",\n{\n            'v': 26,\n            'f': \"26\",\n        },\n\"1684260729.81942\",\n\"egGe6fl4ld2PSA\"]],\n        columns: [[\"number\", \"index\"], [\"string\", \"name\"], [\"number\", \"age\"], [\"string\", \"nationality\"], [\"string\", \"street\"], [\"number\", \"building\"], [\"string\", \"_dlt_load_id\"], [\"string\", \"_dlt_id\"]],\n        columnOptions: [{\"width\": \"1px\", \"className\": \"index_column\"}],\n        rowsPerPage: 25,\n        helpUrl: \"https://colab.research.google.com/notebooks/data_table.ipynb\",\n        suppressOutputScrolling: true,\n        minimumWidth: undefined,\n      });\n    "
          },
          "metadata": {}
        }
      ]
    },
    {
      "cell_type": "markdown",
      "source": [
        "## Something changed. The data now contains a building nr which is a string as opposed to the number before, and a new vaccinations column. Let's load the data and see the schema evolve"
      ],
      "metadata": {
        "id": "udEmDsnCQS0p"
      }
    },
    {
      "cell_type": "code",
      "source": [
        "def citizens_pipeline():\n",
        "    people = [{\"name\": \"Rahul\", \"age\": 28, \"Nationality\": \"India\", \"Street\": \"Brunnenstr.\", \"Building\": \"67A\", \"Vaccinations\": 2},\n",
        "    ]\n",
        "    for person in people:\n",
        "        yield person"
      ],
      "metadata": {
        "id": "C9Hq5oA96lPO"
      },
      "execution_count": null,
      "outputs": []
    },
    {
      "cell_type": "code",
      "source": [
        "import dlt\n",
        "#make a connection to the destination\n",
        "pipeline = dlt.pipeline(destination=\"duckdb\", dataset_name=\"people\")\n",
        "# Load data with replace\n",
        "info = pipeline.run(citizens_pipeline, table_name=\"people\", write_disposition='append')"
      ],
      "metadata": {
        "id": "IyNoZJGH6ymn"
      },
      "execution_count": null,
      "outputs": []
    },
    {
      "cell_type": "markdown",
      "source": [
        "## As you can now see, the schemas were merged: The vaccinations column was added, and the text variant of the building column was created as `building__v__text`"
      ],
      "metadata": {
        "id": "V4gzhSqEQpQJ"
      }
    },
    {
      "cell_type": "code",
      "source": [
        "import duckdb\n",
        "from google.colab import data_table\n",
        "data_table.enable_dataframe_formatter()\n",
        "\n",
        "conn = duckdb.connect(f\"{pipeline.pipeline_name}.duckdb\")\n",
        "\n",
        "conn.sql(f\"SET search_path = '{pipeline.dataset_name}'\")\n",
        "\n",
        "display(conn.sql(\"DESCRIBE\"))\n",
        "\n",
        "people_table = conn.sql(\"SELECT * FROM people\").df()\n",
        "display(people_table)"
      ],
      "metadata": {
        "colab": {
          "base_uri": "https://localhost:8080/",
          "height": 439
        },
        "id": "hHjNisrk618A",
        "outputId": "a063b9ab-d9ac-40c0-eb0c-4742dc07d9dc"
      },
      "execution_count": null,
      "outputs": [
        {
          "output_type": "display_data",
          "data": {
            "text/plain": [
              "┌─────────────────────┬──────────────────────┬─────────────────────────────────────────────────────────────┬───────────┐\n",
              "│     table_name      │     column_names     │                        column_types                         │ temporary │\n",
              "│       varchar       │      varchar[]       │                          varchar[]                          │  boolean  │\n",
              "├─────────────────────┼──────────────────────┼─────────────────────────────────────────────────────────────┼───────────┤\n",
              "│ _dlt_loads          │ [load_id, schema_n…  │ [VARCHAR, VARCHAR, BIGINT, TIMESTAMP WITH TIME ZONE]        │ false     │\n",
              "│ _dlt_pipeline_state │ [version, engine_v…  │ [BIGINT, BIGINT, VARCHAR, VARCHAR, TIMESTAMP WITH TIME ZO…  │ false     │\n",
              "│ _dlt_version        │ [version, engine_v…  │ [BIGINT, BIGINT, TIMESTAMP WITH TIME ZONE, VARCHAR, VARCH…  │ false     │\n",
              "│ people              │ [name, age, nation…  │ [VARCHAR, BIGINT, VARCHAR, VARCHAR, BIGINT, VARCHAR, VARC…  │ false     │\n",
              "└─────────────────────┴──────────────────────┴─────────────────────────────────────────────────────────────┴───────────┘"
            ]
          },
          "metadata": {}
        },
        {
          "output_type": "display_data",
          "data": {
            "text/plain": [
              "    name  age nationality          street  building       _dlt_load_id  \\\n",
              "0    Max   34     Germany      Müllerstr.     131.0   1684260729.81942   \n",
              "1  Aisha   19     Ukraine  Karl Marx Str.      26.0   1684260729.81942   \n",
              "2  Rahul   28       India     Brunnenstr.       NaN  1684260774.626208   \n",
              "\n",
              "          _dlt_id building__v_text  vaccinations  \n",
              "0  kY1EJLY8gxRKrQ              NaN           NaN  \n",
              "1  egGe6fl4ld2PSA              NaN           NaN  \n",
              "2  qZQXsHUZ+k6zng              67A           2.0  "
            ],
            "text/html": [
              "\n",
              "  <div id=\"df-3bfc5ddf-94ff-44be-8a8a-a3e84649fa8e\">\n",
              "    <div class=\"colab-df-container\">\n",
              "      <div>\n",
              "<style scoped>\n",
              "    .dataframe tbody tr th:only-of-type {\n",
              "        vertical-align: middle;\n",
              "    }\n",
              "\n",
              "    .dataframe tbody tr th {\n",
              "        vertical-align: top;\n",
              "    }\n",
              "\n",
              "    .dataframe thead th {\n",
              "        text-align: right;\n",
              "    }\n",
              "</style>\n",
              "<table border=\"1\" class=\"dataframe\">\n",
              "  <thead>\n",
              "    <tr style=\"text-align: right;\">\n",
              "      <th></th>\n",
              "      <th>name</th>\n",
              "      <th>age</th>\n",
              "      <th>nationality</th>\n",
              "      <th>street</th>\n",
              "      <th>building</th>\n",
              "      <th>_dlt_load_id</th>\n",
              "      <th>_dlt_id</th>\n",
              "      <th>building__v_text</th>\n",
              "      <th>vaccinations</th>\n",
              "    </tr>\n",
              "  </thead>\n",
              "  <tbody>\n",
              "    <tr>\n",
              "      <th>0</th>\n",
              "      <td>Max</td>\n",
              "      <td>34</td>\n",
              "      <td>Germany</td>\n",
              "      <td>Müllerstr.</td>\n",
              "      <td>131.0</td>\n",
              "      <td>1684260729.81942</td>\n",
              "      <td>kY1EJLY8gxRKrQ</td>\n",
              "      <td>NaN</td>\n",
              "      <td>NaN</td>\n",
              "    </tr>\n",
              "    <tr>\n",
              "      <th>1</th>\n",
              "      <td>Aisha</td>\n",
              "      <td>19</td>\n",
              "      <td>Ukraine</td>\n",
              "      <td>Karl Marx Str.</td>\n",
              "      <td>26.0</td>\n",
              "      <td>1684260729.81942</td>\n",
              "      <td>egGe6fl4ld2PSA</td>\n",
              "      <td>NaN</td>\n",
              "      <td>NaN</td>\n",
              "    </tr>\n",
              "    <tr>\n",
              "      <th>2</th>\n",
              "      <td>Rahul</td>\n",
              "      <td>28</td>\n",
              "      <td>India</td>\n",
              "      <td>Brunnenstr.</td>\n",
              "      <td>NaN</td>\n",
              "      <td>1684260774.626208</td>\n",
              "      <td>qZQXsHUZ+k6zng</td>\n",
              "      <td>67A</td>\n",
              "      <td>2.0</td>\n",
              "    </tr>\n",
              "  </tbody>\n",
              "</table>\n",
              "</div>\n",
              "      <button class=\"colab-df-convert\" onclick=\"convertToInteractive('df-3bfc5ddf-94ff-44be-8a8a-a3e84649fa8e')\"\n",
              "              title=\"Convert this dataframe to an interactive table.\"\n",
              "              style=\"display:none;\">\n",
              "        \n",
              "  <svg xmlns=\"http://www.w3.org/2000/svg\" height=\"24px\"viewBox=\"0 0 24 24\"\n",
              "       width=\"24px\">\n",
              "    <path d=\"M0 0h24v24H0V0z\" fill=\"none\"/>\n",
              "    <path d=\"M18.56 5.44l.94 2.06.94-2.06 2.06-.94-2.06-.94-.94-2.06-.94 2.06-2.06.94zm-11 1L8.5 8.5l.94-2.06 2.06-.94-2.06-.94L8.5 2.5l-.94 2.06-2.06.94zm10 10l.94 2.06.94-2.06 2.06-.94-2.06-.94-.94-2.06-.94 2.06-2.06.94z\"/><path d=\"M17.41 7.96l-1.37-1.37c-.4-.4-.92-.59-1.43-.59-.52 0-1.04.2-1.43.59L10.3 9.45l-7.72 7.72c-.78.78-.78 2.05 0 2.83L4 21.41c.39.39.9.59 1.41.59.51 0 1.02-.2 1.41-.59l7.78-7.78 2.81-2.81c.8-.78.8-2.07 0-2.86zM5.41 20L4 18.59l7.72-7.72 1.47 1.35L5.41 20z\"/>\n",
              "  </svg>\n",
              "      </button>\n",
              "      \n",
              "  <style>\n",
              "    .colab-df-container {\n",
              "      display:flex;\n",
              "      flex-wrap:wrap;\n",
              "      gap: 12px;\n",
              "    }\n",
              "\n",
              "    .colab-df-convert {\n",
              "      background-color: #E8F0FE;\n",
              "      border: none;\n",
              "      border-radius: 50%;\n",
              "      cursor: pointer;\n",
              "      display: none;\n",
              "      fill: #1967D2;\n",
              "      height: 32px;\n",
              "      padding: 0 0 0 0;\n",
              "      width: 32px;\n",
              "    }\n",
              "\n",
              "    .colab-df-convert:hover {\n",
              "      background-color: #E2EBFA;\n",
              "      box-shadow: 0px 1px 2px rgba(60, 64, 67, 0.3), 0px 1px 3px 1px rgba(60, 64, 67, 0.15);\n",
              "      fill: #174EA6;\n",
              "    }\n",
              "\n",
              "    [theme=dark] .colab-df-convert {\n",
              "      background-color: #3B4455;\n",
              "      fill: #D2E3FC;\n",
              "    }\n",
              "\n",
              "    [theme=dark] .colab-df-convert:hover {\n",
              "      background-color: #434B5C;\n",
              "      box-shadow: 0px 1px 3px 1px rgba(0, 0, 0, 0.15);\n",
              "      filter: drop-shadow(0px 1px 2px rgba(0, 0, 0, 0.3));\n",
              "      fill: #FFFFFF;\n",
              "    }\n",
              "  </style>\n",
              "\n",
              "      <script>\n",
              "        const buttonEl =\n",
              "          document.querySelector('#df-3bfc5ddf-94ff-44be-8a8a-a3e84649fa8e button.colab-df-convert');\n",
              "        buttonEl.style.display =\n",
              "          google.colab.kernel.accessAllowed ? 'block' : 'none';\n",
              "\n",
              "        async function convertToInteractive(key) {\n",
              "          const element = document.querySelector('#df-3bfc5ddf-94ff-44be-8a8a-a3e84649fa8e');\n",
              "          const dataTable =\n",
              "            await google.colab.kernel.invokeFunction('convertToInteractive',\n",
              "                                                     [key], {});\n",
              "          if (!dataTable) return;\n",
              "\n",
              "          const docLinkHtml = 'Like what you see? Visit the ' +\n",
              "            '<a target=\"_blank\" href=https://colab.research.google.com/notebooks/data_table.ipynb>data table notebook</a>'\n",
              "            + ' to learn more about interactive tables.';\n",
              "          element.innerHTML = '';\n",
              "          dataTable['output_type'] = 'display_data';\n",
              "          await google.colab.output.renderOutput(dataTable, element);\n",
              "          const docLink = document.createElement('div');\n",
              "          docLink.innerHTML = docLinkHtml;\n",
              "          element.appendChild(docLink);\n",
              "        }\n",
              "      </script>\n",
              "    </div>\n",
              "  </div>\n",
              "  "
            ],
            "application/vnd.google.colaboratory.module+javascript": "\n      import \"https://ssl.gstatic.com/colaboratory/data_table/99dac6621f6ae8c4/data_table.js\";\n\n      window.createDataTable({\n        data: [[{\n            'v': 0,\n            'f': \"0\",\n        },\n\"Max\",\n{\n            'v': 34,\n            'f': \"34\",\n        },\n\"Germany\",\n\"M\\u00fcllerstr.\",\n{\n            'v': 131.0,\n            'f': \"131.0\",\n        },\n\"1684260729.81942\",\n\"kY1EJLY8gxRKrQ\",\nNaN,\n{\n            'v': NaN,\n            'f': \"NaN\",\n        }],\n [{\n            'v': 1,\n            'f': \"1\",\n        },\n\"Aisha\",\n{\n            'v': 19,\n            'f': \"19\",\n        },\n\"Ukraine\",\n\"Karl Marx Str.\",\n{\n            'v': 26.0,\n            'f': \"26.0\",\n        },\n\"1684260729.81942\",\n\"egGe6fl4ld2PSA\",\nNaN,\n{\n            'v': NaN,\n            'f': \"NaN\",\n        }],\n [{\n            'v': 2,\n            'f': \"2\",\n        },\n\"Rahul\",\n{\n            'v': 28,\n            'f': \"28\",\n        },\n\"India\",\n\"Brunnenstr.\",\n{\n            'v': NaN,\n            'f': \"NaN\",\n        },\n\"1684260774.626208\",\n\"qZQXsHUZ+k6zng\",\n\"67A\",\n{\n            'v': 2.0,\n            'f': \"2.0\",\n        }]],\n        columns: [[\"number\", \"index\"], [\"string\", \"name\"], [\"number\", \"age\"], [\"string\", \"nationality\"], [\"string\", \"street\"], [\"number\", \"building\"], [\"string\", \"_dlt_load_id\"], [\"string\", \"_dlt_id\"], [\"string\", \"building__v_text\"], [\"number\", \"vaccinations\"]],\n        columnOptions: [{\"width\": \"1px\", \"className\": \"index_column\"}],\n        rowsPerPage: 25,\n        helpUrl: \"https://colab.research.google.com/notebooks/data_table.ipynb\",\n        suppressOutputScrolling: true,\n        minimumWidth: undefined,\n      });\n    "
          },
          "metadata": {}
        }
      ]
    },
    {
      "cell_type": "markdown",
      "source": [
        "## Finally, any change should be notified to the teams that produce and curate or consume the data. We can read the load outcome and send it to a slack webhook with dlt."
      ],
      "metadata": {
        "id": "6RGFpvG5Q8hv"
      }
    },
    {
      "cell_type": "code",
      "source": [
        "from dlt.common.runtime.slack import send_slack_message"
      ],
      "metadata": {
        "id": "SOVDTrvA8wT0"
      },
      "execution_count": null,
      "outputs": []
    },
    {
      "cell_type": "code",
      "source": [
        "hook = \"https://hooks.slack.com/services/xxx/xxx/xxx\""
      ],
      "metadata": {
        "id": "RtG-X8Ct84a2"
      },
      "execution_count": null,
      "outputs": []
    },
    {
      "cell_type": "code",
      "source": [
        "for package in info.load_packages:\n",
        "  for table_name, table in package.schema_update.items():\n",
        "    for column_name, column in table[\"columns\"].items():\n",
        "      send_slack_message(hook, message=f\"\\tTable updated: {table_name}: Column changed: {column_name}: {column['data_type']}\")"
      ],
      "metadata": {
        "id": "Tu3VrJpu7EFm"
      },
      "execution_count": null,
      "outputs": []
    }
  ]
}