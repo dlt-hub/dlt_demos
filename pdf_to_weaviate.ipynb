{
 "cells": [
  {
   "cell_type": "markdown",
   "source": [
    "# Weaviate + dlt\n",
    "\n",
    "Data Ingestion: The project starts with the ingestion of unstructured data, specifically PDF files containing invoices. These PDF files are processed to extract text information.\n",
    "\n",
    "Data Transformation: Once the text is extracted and stored in Weaviate, it is further processed to extract structured information such as recipient company name, invoice amount, invoice date, invoice number, and service description using a generative prompt.\n",
    "\n",
    "Data Storage: The structured information is then stored in a Weaviate database, which allows for efficient querying and retrieval of this structured data.\n",
    "\n",
    "Overall, this project aims to automate the extraction and querying of structured information from unstructured invoice PDFs, making it easier to work with and derive insights from this data."
   ],
   "metadata": {
    "collapsed": false
   },
   "id": "b6f1a3412b5b48f4"
  },
  {
   "cell_type": "code",
   "execution_count": 40,
   "outputs": [],
   "source": [
    "!pip install -q \"dlt[weaviate]\""
   ],
   "metadata": {
    "collapsed": false,
    "ExecuteTime": {
     "start_time": "2023-09-01T13:13:14.513707312Z"
    }
   },
   "id": "cad1d29536ff53d7"
  },
  {
   "cell_type": "code",
   "execution_count": 41,
   "outputs": [
    {
     "name": "stdout",
     "output_type": "stream",
     "text": [
      "Looking up the init scripts in \u001B[1mhttps://github.com/dlt-hub/verified-sources.git\u001B[0m...\r\n",
      "No files to update, exiting\r\n"
     ]
    }
   ],
   "source": [
    "!dlt --non-interactive init unstructured_weaviate weaviate --branch features/unstructured_weaviate"
   ],
   "metadata": {
    "collapsed": false,
    "ExecuteTime": {
     "end_time": "2023-09-01T13:13:18.891099545Z",
     "start_time": "2023-09-01T13:13:15.798635555Z"
    }
   },
   "id": "9393bf25057e9beb"
  },
  {
   "cell_type": "markdown",
   "source": [],
   "metadata": {
    "collapsed": false
   },
   "id": "602e6197670898a8"
  },
  {
   "cell_type": "code",
   "execution_count": 42,
   "outputs": [],
   "source": [
    "!pip install PyPDF2 -q"
   ],
   "metadata": {
    "collapsed": false,
    "ExecuteTime": {
     "end_time": "2023-09-01T13:13:19.902171195Z",
     "start_time": "2023-09-01T13:13:18.892644176Z"
    }
   },
   "id": "4ce0f4c6311de5a4"
  },
  {
   "cell_type": "code",
   "execution_count": 56,
   "outputs": [],
   "source": [
    "import os\n",
    "import weaviate\n",
    "\n",
    "pdf_to_text_properties = ['file_path', 'file_name', 'content_type', 'text', 'page_id']\n",
    "unstructured_properties = ['recipient_company_name', 'invoice_amount', 'invoice_date', 'invoice_number', 'service_description',  'content_type']\n",
    "\n",
    "def show_data(class_name, properties):\n",
    "    client = weaviate.Client(\n",
    "        url=os.getenv(\"WEAVIATE_URL\"),\n",
    "        auth_client_secret=weaviate.AuthApiKey(\n",
    "            api_key=os.getenv(\"WEAVIATE_API_KEY\")\n",
    "        ),\n",
    "        additional_headers={\n",
    "            \"X-OpenAI-Api-Key\": os.getenv(\"WEAVIATE_OPENAI_KEY\")\n",
    "        }\n",
    "    )\n",
    "    \n",
    "    response = (\n",
    "        client.query\n",
    "        .get(class_name, properties)\n",
    "        .do()\n",
    "    )\n",
    "    return response"
   ],
   "metadata": {
    "collapsed": false,
    "ExecuteTime": {
     "end_time": "2023-09-01T13:21:35.695154563Z",
     "start_time": "2023-09-01T13:21:35.646768962Z"
    }
   },
   "id": "9bb7a37329d99b46"
  },
  {
   "cell_type": "code",
   "execution_count": 64,
   "outputs": [
    {
     "name": "stderr",
     "output_type": "stream",
     "text": [
      "/home/alenaastrakhantseva/.cache/pypoetry/virtualenvs/weaviate-demo-9BqQS6RD-py3.10/lib/python3.10/site-packages/weaviate/warnings.py:130: DeprecationWarning: Dep006: You are using the `client.batch()` method, which will be removed in the next major release.\n",
      "            Please instead use the `client.batch.configure()` method to configure your batch and `client.batch` to enter the context manager.\n",
      "            See https://weaviate.io/developers/weaviate/client-libraries/python for details.\n",
      "  warnings.warn(\n"
     ]
    },
    {
     "name": "stdout",
     "output_type": "stream",
     "text": [
      "Normalized data for the following tables:\n",
      "- PdfToText: 2 row(s)\n",
      "\n",
      "------\n",
      "Pipeline pdf_to_text completed in 5.69 seconds\n",
      "1 load package(s) were loaded to destination weaviate and into dataset None\n",
      "The weaviate destination used https://demo-1-wvxjul5s.weaviate.network location to store data\n",
      "Load package 1693576393.904332 is LOADED and contains no failed jobs\n"
     ]
    }
   ],
   "source": [
    "import dlt\n",
    "from dlt.destinations.weaviate import weaviate_adapter\n",
    "\n",
    "from unstructured_weaviate import pdf_to_text\n",
    "\n",
    "\n",
    "from unstructured_weaviate.local_folder import local_folder_resource\n",
    "\n",
    "# configure the pipeline with your destination details\n",
    "pipeline = dlt.pipeline(\n",
    "    pipeline_name=\"pdf_to_text\",\n",
    "    destination=\"weaviate\",\n",
    ")\n",
    "\n",
    "data_resource = local_folder_resource(\"test_data\")\n",
    "\n",
    "pdf_data_resource = data_resource | pdf_to_text(separate_pages=True)\n",
    "\n",
    "# use weaviate_adapter to tell destination to vectorize \"text\" column\n",
    "load_info = pipeline.run(\n",
    "    weaviate_adapter(pdf_data_resource, vectorize=\"text\")\n",
    ")\n",
    "# pretty print the information on data that was loaded\n",
    "row_counts = pipeline.last_trace.last_normalize_info\n",
    "print(row_counts)\n",
    "print(\"------\")\n",
    "print(load_info)"
   ],
   "metadata": {
    "collapsed": false,
    "ExecuteTime": {
     "end_time": "2023-09-01T13:53:18.726035676Z",
     "start_time": "2023-09-01T13:53:13.012184175Z"
    }
   },
   "id": "initial_id"
  },
  {
   "cell_type": "code",
   "execution_count": 65,
   "outputs": [
    {
     "name": "stdout",
     "output_type": "stream",
     "text": [
      "{'data': {'Get': {'PdfToText': [{'content_type': 'application/pdf', 'file_name': 'DE353116862_AA007_2022-07.pdf', 'file_path': '/home/alenaastrakhantseva/dlthub/weaviate_demo/test_data/DE353116862_AA007_2022-07.pdf', 'page_id': 'DE353116862_AA007_2022-07.pdf_0', 'text': 'ScaleVector GmbH\\nKrüllsstraße 6\\n12435 Berlin\\nUSt-ID: DE353116862\\nSteuernummer: 37/505/50907Finom\\nIBAN: DE05110101015401984723\\nBIC/SWIFT: SOBKDEB2XXXE-Mail: anna@scalevector.ai\\nTel.: +4917683020993\\nSeite 1/1\\nScaleVector GmbH  Krüllsstraße 6  12435 Berlin\\nAn: Rasa Technologies GmbH\\nSchönhauser Allee 175\\n10119 Berlin\\nUSt-ID: DE311844583\\nRechnung Nr. 2022-07\\nRechnungsdatum: 18.08.2022 Fälligkeitsdatum: 01.09.2022\\nPayment terms: net 14 \\nIm Inland nicht steuerbare sonstige Leistung gemäß § 3a UStG\\nOther non-taxable services in Germany in accordance with Section 3a \\nUStGNettobetrag8.160,00\\xa0€\\nUSt. (19%)1.550,40\\xa0€\\n9.710,40\\xa0€Consulting Rasa Clients July 2022 51 Stunde 160,00\\xa0€ 19 1.550,40\\xa0€ 8.160,00\\xa0€Leistung Menge Einheit Preis (netto) USt (%) MwSt Betrag (netto)'}, {'content_type': 'application/pdf', 'file_name': 'invoice_1.pdf', 'file_path': '/home/alenaastrakhantseva/dlthub/weaviate_demo/test_data/invoice_1.pdf', 'page_id': 'invoice_1.pdf_0', 'text': \"Invoice Description: Premium Widget Delivery and Installation Services \\n \\nInvoice Number: INV-549283 \\n \\nInvoice Date: June 30, 2023 \\n \\nBilled To: \\nCustomer Name: XYZ Corporation \\nAddress: 123 Main Street, Cityville, State \\n \\nItem Description: \\n \\nPremium Widgets (Qty: 50): These high-quality widgets are manufactured using state-of-the-art technolog\\ny, ensuring durability and superior performance. Each widget comes with advanced features and a sleek \\ndesign. \\n \\nDelivery Service: Our team provided efficient and secure delivery of the premium widgets to the customer'\\ns specified location. We ensured proper handling and packaging to prevent any damage during transporta\\ntion. \\n \\nInstallation Service: Our skilled technicians conducted professional installation of the widgets, ensuring th\\ney were seamlessly integrated into the customer's existing system. They followed industry best practices \\nand safety guidelines to guarantee optimal functionality. \\n \\nTechnical Support (3 hours): We offered comprehensive technical support to the customer, assisting with \\nany queries or issues related to the widgets or their installation. Our knowledgeable support team provide\\nd prompt and reliable assistance, ensuring smooth operations. \\n \\nSubtotal: $10,500.00 \\nTax (7%): $735.00 \\nTotal Amount: $11,235.00 \\n \\nPayment Terms: Payment is due within 30 days of the invoice date. \\n \\nThank you for choosing our premium widget delivery and installation services. We appreciate your busine\\nss and look forward to serving you in the future.\"}]}}}\n"
     ]
    }
   ],
   "source": [
    "\n",
    "response = show_data(\"PdfToText\", pdf_to_text_properties)\n",
    "print(response)"
   ],
   "metadata": {
    "collapsed": false,
    "ExecuteTime": {
     "end_time": "2023-09-01T13:53:22.230643544Z",
     "start_time": "2023-09-01T13:53:21.596930919Z"
    }
   },
   "id": "e0585e09fa31d6fb"
  },
  {
   "cell_type": "code",
   "execution_count": 66,
   "outputs": [
    {
     "name": "stderr",
     "output_type": "stream",
     "text": [
      "/home/alenaastrakhantseva/.cache/pypoetry/virtualenvs/weaviate-demo-9BqQS6RD-py3.10/lib/python3.10/site-packages/weaviate/warnings.py:130: DeprecationWarning: Dep006: You are using the `client.batch()` method, which will be removed in the next major release.\n",
      "            Please instead use the `client.batch.configure()` method to configure your batch and `client.batch` to enter the context manager.\n",
      "            See https://weaviate.io/developers/weaviate/client-libraries/python for details.\n",
      "  warnings.warn(\n"
     ]
    },
    {
     "name": "stdout",
     "output_type": "stream",
     "text": [
      "Normalized data for the following tables:\n",
      "- UnstructuredToStructured: 2 row(s)\n",
      "- DltPipelineState: 1 row(s)\n",
      "- _dlt_pipeline_state: 0 row(s)\n",
      "\n",
      "------\n",
      "Pipeline unstructured_to_structured completed in 10.78 seconds\n",
      "1 load package(s) were loaded to destination weaviate and into dataset Data20230901012240\n",
      "The weaviate destination used https://demo-1-wvxjul5s.weaviate.network location to store data\n",
      "Load package 1693576432.78027 is LOADED and contains no failed jobs\n"
     ]
    }
   ],
   "source": [
    "import weaviate\n",
    "import dlt\n",
    "import json\n",
    "\n",
    "generate_prompt = \"\"\"\n",
    "Generate a JSON object with the following keys and answer the questions:\n",
    "\n",
    "{\n",
    "  \"recipient_company_name\": \"Who is the recipient of the invoice in this {text}? Just return the name. If you don't know, then return None\",\n",
    "  \"invoice_amount\": \"What is the total amount of the invoice {text}? Just return the amount as decimal number, no currency or text. If you don't know, then return None\",\n",
    "  \"invoice_date\": \"What is the date of the invoice {text}? Just return the date. If you don't know, then return None\",\n",
    "  \"invoice_number\": \"What is the invoice number {text}? Just return the number. If you don't know, then return None\",\n",
    "  \"service_description\": \"What is the description of the service that this invoice is for {text}? Just return the description. If you don't know, then return None\",\n",
    "}\n",
    "\"\"\"\n",
    "\n",
    "@dlt.resource(write_disposition=\"replace\")\n",
    "def unstructured_to_structured(\n",
    "        credentials=dlt.secrets.value,\n",
    "):\n",
    "    client = weaviate.Client(\n",
    "        url=credentials[\"url\"],\n",
    "        auth_client_secret=weaviate.AuthApiKey(api_key=credentials[\"api_key\"]),\n",
    "        additional_headers=credentials[\"additional_headers\"]\n",
    "    )   \n",
    "    response = (\n",
    "        client.query\n",
    "        .get(\"PdfToText\", pdf_to_text_properties)\n",
    "        .with_generate(single_prompt=generate_prompt)\n",
    "        .do()\n",
    "    )\n",
    "    # print(response)\n",
    "    for row in response[\"data\"][\"Get\"][\"PdfToText\"]:\n",
    "        json_string = row[\"_additional\"][\"generate\"][\"singleResult\"]\n",
    "        json_obj = json.loads(json_string)\n",
    "        metadata = {p: row[p] for p in [\"page_id\", \"file_path\", \"content_type\"]}\n",
    "        json_obj.update(metadata)\n",
    "        yield json_obj\n",
    "\n",
    "\n",
    "# configure the pipeline with your destination details\n",
    "pipeline = dlt.pipeline(\n",
    "    pipeline_name=\"unstructured_to_structured\",\n",
    "    destination=\"weaviate\",\n",
    ")\n",
    "\n",
    "# use weaviate_adapter to tell destination to vectorize \"text\" column\n",
    "load_info = pipeline.run(\n",
    "    weaviate_adapter(unstructured_to_structured, vectorize=\"service_description\")\n",
    ")\n",
    "# pretty print the information on data that was loaded\n",
    "row_counts = pipeline.last_trace.last_normalize_info\n",
    "print(row_counts)\n",
    "print(\"------\")\n",
    "print(load_info)"
   ],
   "metadata": {
    "collapsed": false,
    "ExecuteTime": {
     "end_time": "2023-09-01T13:53:59.215667420Z",
     "start_time": "2023-09-01T13:53:48.373449410Z"
    }
   },
   "id": "ccb9cfa2a1f00697"
  },
  {
   "cell_type": "code",
   "execution_count": 69,
   "outputs": [
    {
     "name": "stdout",
     "output_type": "stream",
     "text": [
      "{'data': {'Get': {'Data20230901012240_UnstructuredToStructured': [{'content_type': 'application/pdf', 'file_path': '/home/alenaastrakhantseva/dlthub/weaviate_demo/test_data/invoice_1.pdf', 'invoice_amount': 11235, 'invoice_date': 'June 30, 2023', 'invoice_number': 'INV-549283', 'page_id': 'invoice_1.pdf_0', 'recipient_company_name': 'XYZ Corporation', 'service_description': 'Premium Widget Delivery and Installation Services'}, {'content_type': 'application/pdf', 'file_path': '/home/alenaastrakhantseva/dlthub/weaviate_demo/test_data/DE353116862_AA007_2022-07.pdf', 'invoice_amount': 9710.4, 'invoice_date': '18.08.2022', 'invoice_number': '2022-07', 'page_id': 'DE353116862_AA007_2022-07.pdf_0', 'recipient_company_name': 'Rasa Technologies GmbH', 'service_description': 'Consulting Rasa Clients July 2022'}]}}}\n"
     ]
    }
   ],
   "source": [
    "response = show_data(\"Data20230901012240_UnstructuredToStructured\", unstructured_properties + [\"page_id\", \"file_path\", \"content_type\"])\n",
    "print(response)"
   ],
   "metadata": {
    "collapsed": false,
    "ExecuteTime": {
     "end_time": "2023-09-01T13:55:30.259149712Z",
     "start_time": "2023-09-01T13:55:29.639783849Z"
    }
   },
   "id": "a5ce77c1d5a4db5a"
  },
  {
   "cell_type": "code",
   "execution_count": 61,
   "outputs": [],
   "source": [
    "!pip install -q duckdb pandas --upgrade"
   ],
   "metadata": {
    "collapsed": false,
    "ExecuteTime": {
     "end_time": "2023-09-01T13:22:40.145734438Z",
     "start_time": "2023-09-01T13:22:37.375709532Z"
    }
   },
   "id": "4c0796e2f3ee48ae"
  },
  {
   "cell_type": "code",
   "execution_count": 70,
   "outputs": [
    {
     "name": "stdout",
     "output_type": "stream",
     "text": [
      "Normalized data for the following tables:\n",
      "- _dlt_pipeline_state: 1 row(s)\n",
      "- unstructured_to_structured: 2 row(s)\n",
      "\n",
      "------\n",
      "Pipeline unstructured_to_structured completed in 5.86 seconds\n",
      "1 load package(s) were loaded to destination duckdb and into dataset data_20230901015549\n",
      "The duckdb destination used duckdb:////home/alenaastrakhantseva/dlthub/weaviate_demo/unstructured_to_structured.duckdb location to store data\n",
      "Load package 1693576555.252389 is LOADED and contains no failed jobs\n"
     ]
    }
   ],
   "source": [
    "# configure the pipeline with your destination details\n",
    "pipeline = dlt.pipeline(\n",
    "    pipeline_name=\"unstructured_to_structured\",\n",
    "    destination=\"duckdb\",\n",
    "    dataset_name=\"data\",\n",
    "    full_refresh=True,\n",
    ")\n",
    "\n",
    "# use weaviate_adapter to tell destination to vectorize \"text\" column\n",
    "load_info = pipeline.run(unstructured_to_structured)\n",
    "# pretty print the information on data that was loaded\n",
    "row_counts = pipeline.last_trace.last_normalize_info\n",
    "print(row_counts)\n",
    "print(\"------\")\n",
    "print(load_info)"
   ],
   "metadata": {
    "collapsed": false,
    "ExecuteTime": {
     "end_time": "2023-09-01T13:55:55.472781384Z",
     "start_time": "2023-09-01T13:55:49.607184066Z"
    }
   },
   "id": "c60a30281728e72e"
  },
  {
   "cell_type": "code",
   "execution_count": 71,
   "outputs": [
    {
     "data": {
      "text/plain": "┌──────────────────────┬──────────────────────┬──────────────────────┬───┬──────────────────────┬───────────┐\n│       database       │        schema        │         name         │ … │     column_types     │ temporary │\n│       varchar        │       varchar        │       varchar        │   │      varchar[]       │  boolean  │\n├──────────────────────┼──────────────────────┼──────────────────────┼───┼──────────────────────┼───────────┤\n│ unstructured_to_st…  │ data_20230901010751  │ _dlt_loads           │ … │ [VARCHAR, VARCHAR,…  │ false     │\n│ unstructured_to_st…  │ data_20230901010751  │ _dlt_pipeline_state  │ … │ [BIGINT, BIGINT, V…  │ false     │\n│ unstructured_to_st…  │ data_20230901010751  │ _dlt_version         │ … │ [BIGINT, BIGINT, T…  │ false     │\n│ unstructured_to_st…  │ data_20230901010751  │ unstructured_to_st…  │ … │ [VARCHAR, VARCHAR,…  │ false     │\n│ unstructured_to_st…  │ data_20230901012240  │ _dlt_loads           │ … │ [VARCHAR, VARCHAR,…  │ false     │\n│ unstructured_to_st…  │ data_20230901012240  │ _dlt_pipeline_state  │ … │ [BIGINT, BIGINT, V…  │ false     │\n│ unstructured_to_st…  │ data_20230901012240  │ _dlt_version         │ … │ [BIGINT, BIGINT, T…  │ false     │\n│ unstructured_to_st…  │ data_20230901012240  │ unstructured_to_st…  │ … │ [VARCHAR, VARCHAR,…  │ false     │\n│ unstructured_to_st…  │ data_20230901015549  │ _dlt_loads           │ … │ [VARCHAR, VARCHAR,…  │ false     │\n│ unstructured_to_st…  │ data_20230901015549  │ _dlt_pipeline_state  │ … │ [BIGINT, BIGINT, V…  │ false     │\n│ unstructured_to_st…  │ data_20230901015549  │ _dlt_version         │ … │ [BIGINT, BIGINT, T…  │ false     │\n│ unstructured_to_st…  │ data_20230901015549  │ unstructured_to_st…  │ … │ [VARCHAR, VARCHAR,…  │ false     │\n│ unstructured_to_st…  │ data_20230901125517  │ _dlt_loads           │ … │ [VARCHAR, VARCHAR,…  │ false     │\n│ unstructured_to_st…  │ data_20230901125517  │ _dlt_pipeline_state  │ … │ [BIGINT, BIGINT, V…  │ false     │\n│ unstructured_to_st…  │ data_20230901125517  │ _dlt_version         │ … │ [BIGINT, BIGINT, T…  │ false     │\n│ unstructured_to_st…  │ data_20230901125517  │ unstructured_to_st…  │ … │ [VARCHAR, VARCHAR,…  │ false     │\n│ unstructured_to_st…  │ unstructured_to_st…  │ _dlt_loads           │ … │ [VARCHAR, VARCHAR,…  │ false     │\n│ unstructured_to_st…  │ unstructured_to_st…  │ _dlt_pipeline_state  │ … │ [BIGINT, BIGINT, V…  │ false     │\n│ unstructured_to_st…  │ unstructured_to_st…  │ _dlt_version         │ … │ [BIGINT, BIGINT, T…  │ false     │\n│ unstructured_to_st…  │ unstructured_to_st…  │ unstructured_to_st…  │ … │ [VARCHAR, VARCHAR,…  │ false     │\n├──────────────────────┴──────────────────────┴──────────────────────┴───┴──────────────────────┴───────────┤\n│ 20 rows                                                                               6 columns (5 shown) │\n└───────────────────────────────────────────────────────────────────────────────────────────────────────────┘"
     },
     "metadata": {},
     "output_type": "display_data"
    },
    {
     "data": {
      "text/plain": "                                 service_description  recipient_company_name  \\\n0                  Consulting Rasa Clients July 2022  Rasa Technologies GmbH   \n1  Premium Widget Delivery and Installation Services         XYZ Corporation   \n\n   invoice_amount   invoice_date invoice_number  \\\n0          9710.4     18.08.2022        2022-07   \n1         11235.0  June 30, 2023     INV-549283   \n\n                           page_id  \\\n0  DE353116862_AA007_2022-07.pdf_0   \n1                  invoice_1.pdf_0   \n\n                                           file_path     content_type  \\\n0  /home/alenaastrakhantseva/dlthub/weaviate_demo...  application/pdf   \n1  /home/alenaastrakhantseva/dlthub/weaviate_demo...  application/pdf   \n\n        _dlt_load_id         _dlt_id  \n0  1693576555.252389  l9RUh9OG8crd5Q  \n1  1693576555.252389  +I9lmBtvrzcmdw  ",
      "text/html": "<div>\n<style scoped>\n    .dataframe tbody tr th:only-of-type {\n        vertical-align: middle;\n    }\n\n    .dataframe tbody tr th {\n        vertical-align: top;\n    }\n\n    .dataframe thead th {\n        text-align: right;\n    }\n</style>\n<table border=\"1\" class=\"dataframe\">\n  <thead>\n    <tr style=\"text-align: right;\">\n      <th></th>\n      <th>service_description</th>\n      <th>recipient_company_name</th>\n      <th>invoice_amount</th>\n      <th>invoice_date</th>\n      <th>invoice_number</th>\n      <th>page_id</th>\n      <th>file_path</th>\n      <th>content_type</th>\n      <th>_dlt_load_id</th>\n      <th>_dlt_id</th>\n    </tr>\n  </thead>\n  <tbody>\n    <tr>\n      <th>0</th>\n      <td>Consulting Rasa Clients July 2022</td>\n      <td>Rasa Technologies GmbH</td>\n      <td>9710.4</td>\n      <td>18.08.2022</td>\n      <td>2022-07</td>\n      <td>DE353116862_AA007_2022-07.pdf_0</td>\n      <td>/home/alenaastrakhantseva/dlthub/weaviate_demo...</td>\n      <td>application/pdf</td>\n      <td>1693576555.252389</td>\n      <td>l9RUh9OG8crd5Q</td>\n    </tr>\n    <tr>\n      <th>1</th>\n      <td>Premium Widget Delivery and Installation Services</td>\n      <td>XYZ Corporation</td>\n      <td>11235.0</td>\n      <td>June 30, 2023</td>\n      <td>INV-549283</td>\n      <td>invoice_1.pdf_0</td>\n      <td>/home/alenaastrakhantseva/dlthub/weaviate_demo...</td>\n      <td>application/pdf</td>\n      <td>1693576555.252389</td>\n      <td>+I9lmBtvrzcmdw</td>\n    </tr>\n  </tbody>\n</table>\n</div>"
     },
     "metadata": {},
     "output_type": "display_data"
    }
   ],
   "source": [
    "import duckdb\n",
    "\n",
    "conn = duckdb.connect(f\"{pipeline.pipeline_name}.duckdb\")\n",
    "conn.sql(f\"SET search_path = '{pipeline.dataset_name}'\")\n",
    "display(conn.sql(\"DESCRIBE\"))\n",
    "data_table = conn.sql(\"SELECT * FROM unstructured_to_structured\").df()\n",
    "display(data_table)"
   ],
   "metadata": {
    "collapsed": false,
    "ExecuteTime": {
     "end_time": "2023-09-01T13:55:56.583810215Z",
     "start_time": "2023-09-01T13:55:56.545346572Z"
    }
   },
   "id": "d04e72fe2c7d25d9"
  },
  {
   "cell_type": "code",
   "execution_count": null,
   "outputs": [],
   "source": [],
   "metadata": {
    "collapsed": false,
    "ExecuteTime": {
     "start_time": "2023-09-01T13:13:24.954629950Z"
    }
   },
   "id": "f88ef46aad0948eb"
  }
 ],
 "metadata": {
  "kernelspec": {
   "name": "weaviate_demo",
   "language": "python",
   "display_name": "weaviate_demo"
  },
  "language_info": {
   "codemirror_mode": {
    "name": "ipython",
    "version": 2
   },
   "file_extension": ".py",
   "mimetype": "text/x-python",
   "name": "python",
   "nbconvert_exporter": "python",
   "pygments_lexer": "ipython2",
   "version": "2.7.6"
  }
 },
 "nbformat": 4,
 "nbformat_minor": 5
}
